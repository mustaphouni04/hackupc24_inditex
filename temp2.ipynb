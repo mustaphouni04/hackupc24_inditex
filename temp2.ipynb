{
 "cells": [
  {
   "cell_type": "code",
   "execution_count": 21,
   "id": "f1954627-dc70-484e-b8c9-995ed047ff20",
   "metadata": {},
   "outputs": [],
   "source": [
    "import numpy as np\n",
    "from keras.preprocessing import image\n",
    "from keras.applications.vgg16 import VGG16, preprocess_input\n",
    "from sklearn.metrics.pairwise import cosine_similarity"
   ]
  },
  {
   "cell_type": "code",
   "execution_count": 22,
   "id": "22a6852e-cec5-4bb0-ac74-00bc9bf6d55f",
   "metadata": {},
   "outputs": [],
   "source": [
    "base_model = VGG16(weights='imagenet', include_top=False)"
   ]
  },
  {
   "cell_type": "code",
   "execution_count": 23,
   "id": "942010a0-9855-46e7-85d1-601bbbab25b3",
   "metadata": {},
   "outputs": [],
   "source": [
    "from PIL import Image\n",
    "def extract_features(img_path, model):\n",
    "    img = Image.open(img_path)\n",
    "    img = img.resize((224, 224))  # Resize the image to match VGG16 input size\n",
    "    x = np.array(img)\n",
    "    x = np.expand_dims(x, axis=0)\n",
    "    x = preprocess_input(x)\n",
    "    features = model.predict(x)\n",
    "    return features.flatten()"
   ]
  },
  {
   "cell_type": "code",
   "execution_count": 24,
   "id": "db5d7c42-eaab-47e3-bbfb-e3e8298ca199",
   "metadata": {},
   "outputs": [],
   "source": [
    "def compute_similarity(features1, features2):\n",
    "    features1 = np.reshape(features1, (1, -1))\n",
    "    features2 = np.reshape(features2, (1, -1))\n",
    "    return cosine_similarity(features1, features2)[0][0]"
   ]
  },
  {
   "cell_type": "code",
   "execution_count": 25,
   "id": "922b2a53-262d-4d73-94dc-86474f109f3e",
   "metadata": {},
   "outputs": [],
   "source": [
    "image1_path = 'images/0_2.jpg'\n",
    "image2_path = 'images/13_2.jpg'"
   ]
  },
  {
   "cell_type": "code",
   "execution_count": 26,
   "id": "e81c84bc-851f-4982-af5a-086d8b476858",
   "metadata": {},
   "outputs": [
    {
     "name": "stdout",
     "output_type": "stream",
     "text": [
      "1/1 [==============================] - 4s 4s/step\n",
      "1/1 [==============================] - 0s 33ms/step\n"
     ]
    }
   ],
   "source": [
    "features1 = extract_features(image1_path, base_model)\n",
    "features2 = extract_features(image2_path, base_model)"
   ]
  },
  {
   "cell_type": "code",
   "execution_count": 27,
   "id": "dfb7075f-f4f9-40d9-9177-bb133924e50b",
   "metadata": {},
   "outputs": [
    {
     "name": "stdout",
     "output_type": "stream",
     "text": [
      "Cosine Similarity between the images: 0.30587083\n"
     ]
    }
   ],
   "source": [
    "similarity = compute_similarity(features1, features2)\n",
    "print(\"Cosine Similarity between the images:\", similarity)"
   ]
  },
  {
   "cell_type": "code",
   "execution_count": null,
   "id": "e8ca04f8-3fa9-4649-8ae5-47e1e24abf2b",
   "metadata": {},
   "outputs": [],
   "source": []
  }
 ],
 "metadata": {
  "kernelspec": {
   "display_name": "Python 3.9 (tf4)",
   "language": "python",
   "name": "tensorflowv4"
  },
  "language_info": {
   "codemirror_mode": {
    "name": "ipython",
    "version": 3
   },
   "file_extension": ".py",
   "mimetype": "text/x-python",
   "name": "python",
   "nbconvert_exporter": "python",
   "pygments_lexer": "ipython3",
   "version": "3.9.18"
  }
 },
 "nbformat": 4,
 "nbformat_minor": 5
}
