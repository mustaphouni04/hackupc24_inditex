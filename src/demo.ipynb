{
 "cells": [
  {
   "cell_type": "code",
   "execution_count": 61,
   "metadata": {},
   "outputs": [
    {
     "name": "stderr",
     "output_type": "stream",
     "text": [
      "/home/eric/miniconda3/lib/python3.11/site-packages/sklearn/cluster/_kmeans.py:870: FutureWarning: The default value of `n_init` will change from 10 to 'auto' in 1.4. Set the value of `n_init` explicitly to suppress the warning\n",
      "  warnings.warn(\n"
     ]
    }
   ],
   "source": [
    "from sklearn.cluster import KMeans\n",
    "import numpy as np\n",
    "import torch\n",
    "import torch.nn as nn\n",
    "from torchvision import models\n",
    "from torch.utils.data import Dataset\n",
    "import os\n",
    "from PIL import Image\n",
    "from tqdm import tqdm\n",
    "from torchvision import transforms, models\n",
    "import gradio as gr\n",
    "from sklearn.metrics.pairwise import cosine_similarity\n",
    "\n",
    "features_finetuned = torch.load(\"../data/features_finetuned_9k.pt\")\n",
    "\n",
    "kmeans_finetuned = KMeans(n_clusters=5, random_state=0)\n",
    "clusters_finetuned = kmeans_finetuned.fit_predict(features_finetuned.cpu().numpy())\n",
    "\n",
    "batch_size = 32\n",
    "device = torch.device('cuda' if torch.cuda.is_available() else 'cpu')\n",
    "\n",
    "images_dir = \"../data/images_12/resized\"\n",
    "images = [os.path.join(images_dir, file) for file in os.listdir(images_dir) if file.endswith(\".jpg\")]\n",
    "\n",
    "def get_image_names(directory):\n",
    "    image_extensions = '.jpg'\n",
    "    image_names = []\n",
    "    for filename in sorted(os.listdir(directory)):\n",
    "        if any(filename.lower().endswith(ext) for ext in image_extensions):\n",
    "            image_names.append(filename)\n",
    "    return image_names\n",
    "\n",
    "directory = \"../data/images_12/resized\"\n",
    "image_names = get_image_names(directory)\n",
    "\n",
    "finetunning_matrix = []\n",
    "for image, vector in zip(image_names, features_finetuned):\n",
    "    finetunning_matrix.append([image, vector])\n",
    "finetunning_matrix = np.array(finetunning_matrix, dtype=object)\n",
    "\n",
    "def get_clusters(embs, kmeans):\n",
    "\treturn kmeans.predict(embs.cpu().numpy())\n",
    "\n",
    "def get_cluster_embs(embs, clusters, idx):\n",
    "\tsame_cluster = np.where(clusters == clusters[idx])[0]\n",
    "\treturn embs[same_cluster]\n",
    "\n",
    "def get_similarity_embs(embs):\n",
    "\tvectors = embs / embs.norm(dim=1, keepdim=True)\n",
    "\tsimilarity_matrix = vectors @ vectors.t()\n",
    "\treturn similarity_matrix.mean(dim=1)\n",
    "\n",
    "def top_k_similar_images(embeddings_with_names, specific_image_name, k=10):\n",
    "    specific_image_index = None\n",
    "    for i, row in enumerate(embeddings_with_names):\n",
    "        if row[0] == specific_image_name:\n",
    "            specific_image_index = i\n",
    "            break\n",
    "\n",
    "    if specific_image_index is None:\n",
    "        raise ValueError(\"The specific image name was not found in the data matrix.\")\n",
    "    specific_embedding = embeddings_with_names[specific_image_index][1].reshape(1, -1)\n",
    "    all_embeddings = np.array([row[1] for row in embeddings_with_names])\n",
    "    similarities = cosine_similarity(specific_embedding, all_embeddings)\n",
    "    similar_image_indices = np.argsort(-similarities)[0][:k]\n",
    "    similar_image_links = embeddings_with_names[similar_image_indices, 0]\n",
    "\n",
    "    return similar_image_links.tolist()"
   ]
  },
  {
   "cell_type": "code",
   "execution_count": 62,
   "metadata": {},
   "outputs": [
    {
     "data": {
      "text/plain": [
       "['0.jpg', '1.jpg', '36.jpg']"
      ]
     },
     "execution_count": 62,
     "metadata": {},
     "output_type": "execute_result"
    }
   ],
   "source": [
    "top_k_similar_images(finetunning_matrix, \"0.jpg\", k=3)"
   ]
  },
  {
   "cell_type": "code",
   "execution_count": 73,
   "metadata": {},
   "outputs": [
    {
     "name": "stdout",
     "output_type": "stream",
     "text": [
      "Running on local URL:  http://127.0.0.1:7887\n",
      "\n",
      "To create a public link, set `share=True` in `launch()`.\n"
     ]
    },
    {
     "data": {
      "text/html": [
       "<div><iframe src=\"http://127.0.0.1:7887/\" width=\"100%\" height=\"500\" allow=\"autoplay; camera; microphone; clipboard-read; clipboard-write;\" frameborder=\"0\" allowfullscreen></iframe></div>"
      ],
      "text/plain": [
       "<IPython.core.display.HTML object>"
      ]
     },
     "metadata": {},
     "output_type": "display_data"
    },
    {
     "data": {
      "text/plain": []
     },
     "execution_count": 73,
     "metadata": {},
     "output_type": "execute_result"
    }
   ],
   "source": [
    "clusters = get_clusters(features_finetuned, kmeans_finetuned)\n",
    "\n",
    "def images_to_show(img_path):\n",
    "\timg_name = os.path.basename(img_path).replace(\".jpeg\", \".jpg\")\n",
    "\t# idx = images.index(os.path.join(images_dir, img_name))\n",
    "\t# cluster_embs = get_cluster_embs(features_finetuned, clusters, idx)\n",
    "\t# similarity_embs = get_similarity_embs(features_finetuned)\n",
    "\t# sorted_idx = similarity_embs.argsort(descending=True)\n",
    "\timages_name = top_k_similar_images(finetunning_matrix, img_name, k=6)\n",
    "\treturn [os.path.join(images_dir, images_name[i]) for i in range(6)]\n",
    "\n",
    "def set_as_input(img_path):\n",
    "    img = Image.open(img_path)\n",
    "    blank = np.ones_like(img)*255\n",
    "    return img_path, blank, blank, blank, blank, blank, blank\n",
    "\n",
    "with gr.Blocks() as gui:\n",
    "\twith gr.Column():\n",
    "\t\twith gr.Row():\n",
    "\t\t\twith gr.Column():\n",
    "\t\t\t\timg_in = gr.Image(type=\"filepath\")\n",
    "\t\t\t\tbtn = gr.Button(\"Search\")\n",
    "\t\twith gr.Row():\n",
    "\t\t\twith gr.Column():\n",
    "\t\t\t\timg_out1 = gr.Image(show_download_button=False, interactive=False, type=\"filepath\")\n",
    "\t\t\t\tbtn1 = gr.Button(\"Set as input\")\n",
    "\t\t\twith gr.Column():\n",
    "\t\t\t\timg_out2 = gr.Image(show_download_button=False, interactive=False, type=\"filepath\")\n",
    "\t\t\t\tbtn2 = gr.Button(\"Set as input\")\n",
    "\t\t\twith gr.Column():\n",
    "\t\t\t\timg_out3 = gr.Image(show_download_button=False, interactive=False, type=\"filepath\")\n",
    "\t\t\t\tbtn3 = gr.Button(\"Set as input\")\n",
    "\t\twith gr.Row():\n",
    "\t\t\twith gr.Column():\n",
    "\t\t\t\timg_out4 = gr.Image(show_download_button=False, interactive=False, type=\"filepath\")\n",
    "\t\t\t\tbtn4 = gr.Button(\"Set as input\")\n",
    "\t\t\twith gr.Column():\n",
    "\t\t\t\timg_out5 = gr.Image(show_download_button=False, interactive=False, type=\"filepath\")\n",
    "\t\t\t\tbtn5 = gr.Button(\"Set as input\")\n",
    "\t\t\twith gr.Column():\n",
    "\t\t\t\timg_out6 = gr.Image(show_download_button=False, interactive=False, type=\"filepath\")\n",
    "\t\t\t\tbtn6 = gr.Button(\"Set as input\")\n",
    "  \n",
    "\tbtn.click(images_to_show, inputs=img_in, outputs=[img_out1, img_out2, img_out3, img_out4, img_out5, img_out6])\n",
    "\tbtn1.click(set_as_input, inputs=img_out1, outputs=[img_in, img_out1, img_out2, img_out3, img_out4, img_out5, img_out6])\n",
    "\tbtn2.click(set_as_input, inputs=img_out2, outputs=[img_in, img_out1, img_out2, img_out3, img_out4, img_out5, img_out6])\n",
    "\tbtn3.click(set_as_input, inputs=img_out3, outputs=[img_in, img_out1, img_out2, img_out3, img_out4, img_out5, img_out6])\n",
    "\tbtn4.click(set_as_input, inputs=img_out4, outputs=[img_in, img_out1, img_out2, img_out3, img_out4, img_out5, img_out6])\n",
    "\tbtn5.click(set_as_input, inputs=img_out5, outputs=[img_in, img_out1, img_out2, img_out3, img_out4, img_out5, img_out6])\n",
    "\tbtn6.click(set_as_input, inputs=img_out6, outputs=[img_in, img_out1, img_out2, img_out3, img_out4, img_out5, img_out6])\n",
    "\n",
    "gui.launch()"
   ]
  }
 ],
 "metadata": {
  "kernelspec": {
   "display_name": "base",
   "language": "python",
   "name": "python3"
  },
  "language_info": {
   "codemirror_mode": {
    "name": "ipython",
    "version": 3
   },
   "file_extension": ".py",
   "mimetype": "text/x-python",
   "name": "python",
   "nbconvert_exporter": "python",
   "pygments_lexer": "ipython3",
   "version": "3.11.5"
  }
 },
 "nbformat": 4,
 "nbformat_minor": 2
}
