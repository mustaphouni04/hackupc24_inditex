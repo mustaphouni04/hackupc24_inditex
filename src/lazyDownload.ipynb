{
 "cells": [
  {
   "cell_type": "code",
   "execution_count": 3,
   "metadata": {},
   "outputs": [],
   "source": [
    "import torch\n",
    "from torch.utils.data import Dataset\n",
    "#from torchvision import transforms\n",
    "from PIL import Image\n",
    "import requests\n",
    "from io import BytesIO\n",
    "import matplotlib.pyplot as plt\n",
    "import numpy as np\n",
    "import pandas as pd"
   ]
  },
  {
   "cell_type": "code",
   "execution_count": null,
   "metadata": {},
   "outputs": [],
   "source": [
    "class LazyImageDataset(Dataset):\n",
    "    def __init__(self, image_links, transform=None):\n",
    "        self.image_links = image_links\n",
    "        self.transform = transform\n",
    "        self.valid_indices = self._find_valid_images()\n",
    "\n",
    "    def __len__(self):\n",
    "        return len(self.valid_indices)\n",
    "\n",
    "    def __getitem__(self, idx):\n",
    "        idx = self.valid_indices[idx]\n",
    "        url = self.image_links[idx]\n",
    "        response = requests.get(url)\n",
    "        image = Image.open(BytesIO(response.content))\n",
    "        \n",
    "        if self.transform:\n",
    "            image = self.transform(image)\n",
    "        \n",
    "        return image\n",
    "\n",
    "    def _find_valid_images(self):\n",
    "        valid_indices = []\n",
    "        for idx, url in enumerate(self.image_links):\n",
    "            try:\n",
    "                response = requests.get(url)\n",
    "                image = Image.open(BytesIO(response.content))\n",
    "                # Check if the image can be opened without error\n",
    "                image.verify()\n",
    "                valid_indices.append(idx)\n",
    "            except:\n",
    "                print(f\"Corrupted image: {url}\")\n",
    "        return valid_indices\n",
    "\n",
    "\n",
    "# Example usage\n",
    "df = pd.read_csv(\"/inditextech_hackupc_challenge_images.csv\")\n",
    "image_links = [df.iloc[i, 0] for i in range(len(df[:100]))]\n",
    "#image_links = [\"https://static.zara.net/photos///2024/V/0/3/p/5767/521/712/2/w/2048/5767521712_6_1_1.jpg?ts=1707751045954\",\"https://static.zara.net/photos///2024/V/0/2/p/9621/451/406/2/w/2048/9621451406_6_1_1.jpg?ts=1708614924346\"]  # Your list of image links\n",
    "transform = transforms.Compose([transforms.Resize((224, 224)), transforms.ToTensor()])\n",
    "dataset = LazyImageDataset(image_links, transform=transform)\n",
    "dataloader = torch.utils.data.DataLoader(dataset, batch_size=32, shuffle=True)\n",
    "\n",
    "# Now you can use this dataloader in your training loop"
   ]
  },
  {
   "cell_type": "code",
   "execution_count": null,
   "metadata": {},
   "outputs": [],
   "source": [
    "# Define a function to show images\n",
    "def show_images(images):\n",
    "    fig, axes = plt.subplots(1, len(images), figsize=(15, 5))\n",
    "    for i, image in enumerate(images):\n",
    "        # Convert tensor to numpy array and transpose it to (height, width, channels)\n",
    "        np_image = image.numpy().transpose((1, 2, 0))\n",
    "        # Undo normalization\n",
    "        np_image = np.clip(np_image, 0, 1)\n",
    "        axes[i].imshow(np_image)\n",
    "        axes[i].axis('off')\n",
    "    plt.show()\n",
    "\n",
    "# Fetch a batch of images from the dataloader\n",
    "batch_images = next(iter(dataloader))\n",
    "show_images(batch_images)"
   ]
  }
 ],
 "metadata": {
  "kernelspec": {
   "display_name": "base",
   "language": "python",
   "name": "python3"
  },
  "language_info": {
   "codemirror_mode": {
    "name": "ipython",
    "version": 3
   },
   "file_extension": ".py",
   "mimetype": "text/x-python",
   "name": "python",
   "nbconvert_exporter": "python",
   "pygments_lexer": "ipython3",
   "version": "3.11.4"
  }
 },
 "nbformat": 4,
 "nbformat_minor": 2
}
