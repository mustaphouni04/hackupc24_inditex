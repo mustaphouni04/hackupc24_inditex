{
 "cells": [
  {
   "cell_type": "code",
   "execution_count": 1,
   "metadata": {
    "id": "-12_YS8l4Es3"
   },
   "outputs": [],
   "source": [
    "import torch\n",
    "from torch.utils.data import Dataset\n",
    "import torchvision\n",
    "from PIL import Image\n",
    "import requests\n",
    "from io import BytesIO\n",
    "import torch.nn as nn\n",
    "import torchvision.transforms as transforms\n",
    "from torch.utils.data import DataLoader, Dataset\n",
    "import torchvision.models as models\n",
    "import numpy as np\n",
    "import os\n",
    "from sklearn.metrics.pairwise import cosine_similarity\n",
    "import matplotlib.pyplot as plt\n",
    "from PIL import Image"
   ]
  },
  {
   "cell_type": "code",
   "execution_count": 6,
   "metadata": {
    "id": "ZAbxj1SPAdRp"
   },
   "outputs": [],
   "source": [
    "\n",
    "\n",
    "class LazyRotationImageDataset(Dataset):\n",
    "    def __init__(self, root_dir, transform=None):\n",
    "        super(LazyRotationImageDataset, self).__init__()\n",
    "        self.data = [os.path.join(dp, f) for dp, dn, filenames in os.walk(root_dir) for f in sorted(filenames)]\n",
    "        self.rotations = [0, 90, 180, 270]\n",
    "        self.transform = transform\n",
    "\n",
    "    def __len__(self):\n",
    "        return len(self.data)\n",
    "\n",
    "    def __getitem__(self, idx):\n",
    "        img_path = self.data[idx]\n",
    "        image = Image.open(img_path)\n",
    "\n",
    "        if self.transform:\n",
    "            image = self.transform(image)\n",
    "\n",
    "        rotation_idx = torch.randint(0, 4, (1,)).item()  # Random index for rotation\n",
    "        rotation_angle = self.rotations[rotation_idx]  # Corresponding rotation angle\n",
    "\n",
    "        rotation_transform = transforms.Compose([\n",
    "            transforms.RandomRotation([rotation_angle, rotation_angle], expand=True),\n",
    "            transforms.ToTensor()\n",
    "        ])\n",
    "\n",
    "        rotated_image = rotation_transform(image)  # Applies the selected rotation\n",
    "        return rotated_image, rotation_idx\n",
    "\n",
    "# Example usage\n",
    "dataset = LazyRotationImageDataset(\"../../images\")\n",
    "# dataset = LazyRotationImageDataset(\"/content/\")\n",
    "dataloader = torch.utils.data.DataLoader(dataset, batch_size=32, shuffle=False)\n",
    "\n",
    "# Now you can use this dataloader in your training loop"
   ]
  },
  {
   "cell_type": "code",
   "execution_count": 8,
   "metadata": {
    "colab": {
     "base_uri": "https://localhost:8080/"
    },
    "id": "QN_QGxLCfOo0",
    "outputId": "4262b76a-5df4-4efe-99b8-ed876972a999"
   },
   "outputs": [
    {
     "data": {
      "text/plain": [
       "3000"
      ]
     },
     "execution_count": 8,
     "metadata": {},
     "output_type": "execute_result"
    }
   ],
   "source": [
    "len(dataset)"
   ]
  },
  {
   "cell_type": "code",
   "execution_count": 9,
   "metadata": {
    "id": "GPVikNvzJT_h"
   },
   "outputs": [],
   "source": [
    "import os\n",
    "import shutil\n",
    "\n",
    "dir_path = \"../../\"  # replace with your directory path\n",
    "image_dir = os.path.join(dir_path, \"images\")\n",
    "\n",
    "# Create the images subdirectory if it doesn't exist\n",
    "os.makedirs(image_dir, exist_ok=True)\n",
    "\n",
    "# Iterate over all files in the directory\n",
    "for file in os.listdir(dir_path):\n",
    "    # If the file is a .jpg image\n",
    "    if file.endswith(\".jpg\"):\n",
    "        # Move it to the images subdirectory\n",
    "        shutil.move(os.path.join(dir_path, file), os.path.join(image_dir, file))"
   ]
  },
  {
   "cell_type": "code",
   "execution_count": 10,
   "metadata": {
    "colab": {
     "base_uri": "https://localhost:8080/"
    },
    "id": "PZzrCeCoAvHi",
    "outputId": "873e648b-e0af-4b2a-c2df-9de804bdd4fc"
   },
   "outputs": [
    {
     "name": "stderr",
     "output_type": "stream",
     "text": [
      "100%|██████████████████████████████████████████████████████████████████████████████████| 94/94 [00:35<00:00,  2.64it/s]\n"
     ]
    },
    {
     "name": "stdout",
     "output_type": "stream",
     "text": [
      "Epoch 1/20, Loss: 0.448567271232605\n"
     ]
    },
    {
     "name": "stderr",
     "output_type": "stream",
     "text": [
      "100%|██████████████████████████████████████████████████████████████████████████████████| 94/94 [00:30<00:00,  3.08it/s]\n"
     ]
    },
    {
     "name": "stdout",
     "output_type": "stream",
     "text": [
      "Epoch 2/20, Loss: 0.2625769078731537\n"
     ]
    },
    {
     "name": "stderr",
     "output_type": "stream",
     "text": [
      "100%|██████████████████████████████████████████████████████████████████████████████████| 94/94 [00:30<00:00,  3.08it/s]\n"
     ]
    },
    {
     "name": "stdout",
     "output_type": "stream",
     "text": [
      "Epoch 3/20, Loss: 0.2400233894586563\n"
     ]
    },
    {
     "name": "stderr",
     "output_type": "stream",
     "text": [
      "100%|██████████████████████████████████████████████████████████████████████████████████| 94/94 [00:30<00:00,  3.07it/s]\n"
     ]
    },
    {
     "name": "stdout",
     "output_type": "stream",
     "text": [
      "Epoch 4/20, Loss: 0.2722925543785095\n"
     ]
    },
    {
     "name": "stderr",
     "output_type": "stream",
     "text": [
      "100%|██████████████████████████████████████████████████████████████████████████████████| 94/94 [00:30<00:00,  3.08it/s]\n"
     ]
    },
    {
     "name": "stdout",
     "output_type": "stream",
     "text": [
      "Epoch 5/20, Loss: 0.4656275510787964\n"
     ]
    },
    {
     "name": "stderr",
     "output_type": "stream",
     "text": [
      "100%|██████████████████████████████████████████████████████████████████████████████████| 94/94 [00:30<00:00,  3.07it/s]\n"
     ]
    },
    {
     "name": "stdout",
     "output_type": "stream",
     "text": [
      "Epoch 6/20, Loss: 0.39582833647727966\n"
     ]
    },
    {
     "name": "stderr",
     "output_type": "stream",
     "text": [
      "100%|██████████████████████████████████████████████████████████████████████████████████| 94/94 [00:30<00:00,  3.06it/s]\n"
     ]
    },
    {
     "name": "stdout",
     "output_type": "stream",
     "text": [
      "Epoch 7/20, Loss: 0.29285529255867004\n"
     ]
    },
    {
     "name": "stderr",
     "output_type": "stream",
     "text": [
      "100%|██████████████████████████████████████████████████████████████████████████████████| 94/94 [00:30<00:00,  3.07it/s]\n"
     ]
    },
    {
     "name": "stdout",
     "output_type": "stream",
     "text": [
      "Epoch 8/20, Loss: 0.2359888106584549\n"
     ]
    },
    {
     "name": "stderr",
     "output_type": "stream",
     "text": [
      "100%|██████████████████████████████████████████████████████████████████████████████████| 94/94 [00:30<00:00,  3.07it/s]\n"
     ]
    },
    {
     "name": "stdout",
     "output_type": "stream",
     "text": [
      "Epoch 9/20, Loss: 0.4874532222747803\n"
     ]
    },
    {
     "name": "stderr",
     "output_type": "stream",
     "text": [
      "100%|██████████████████████████████████████████████████████████████████████████████████| 94/94 [00:30<00:00,  3.06it/s]\n"
     ]
    },
    {
     "name": "stdout",
     "output_type": "stream",
     "text": [
      "Epoch 10/20, Loss: 0.1005578264594078\n"
     ]
    },
    {
     "name": "stderr",
     "output_type": "stream",
     "text": [
      "100%|██████████████████████████████████████████████████████████████████████████████████| 94/94 [00:30<00:00,  3.06it/s]\n"
     ]
    },
    {
     "name": "stdout",
     "output_type": "stream",
     "text": [
      "Epoch 11/20, Loss: 0.127684086561203\n"
     ]
    },
    {
     "name": "stderr",
     "output_type": "stream",
     "text": [
      "100%|██████████████████████████████████████████████████████████████████████████████████| 94/94 [00:30<00:00,  3.06it/s]\n"
     ]
    },
    {
     "name": "stdout",
     "output_type": "stream",
     "text": [
      "Epoch 12/20, Loss: 0.16921967267990112\n"
     ]
    },
    {
     "name": "stderr",
     "output_type": "stream",
     "text": [
      "100%|██████████████████████████████████████████████████████████████████████████████████| 94/94 [00:30<00:00,  3.06it/s]\n"
     ]
    },
    {
     "name": "stdout",
     "output_type": "stream",
     "text": [
      "Epoch 13/20, Loss: 0.05768834426999092\n"
     ]
    },
    {
     "name": "stderr",
     "output_type": "stream",
     "text": [
      "100%|██████████████████████████████████████████████████████████████████████████████████| 94/94 [00:30<00:00,  3.05it/s]\n"
     ]
    },
    {
     "name": "stdout",
     "output_type": "stream",
     "text": [
      "Epoch 14/20, Loss: 0.3148510754108429\n"
     ]
    },
    {
     "name": "stderr",
     "output_type": "stream",
     "text": [
      "100%|██████████████████████████████████████████████████████████████████████████████████| 94/94 [00:30<00:00,  3.06it/s]\n"
     ]
    },
    {
     "name": "stdout",
     "output_type": "stream",
     "text": [
      "Epoch 15/20, Loss: 0.10876234620809555\n"
     ]
    },
    {
     "name": "stderr",
     "output_type": "stream",
     "text": [
      "100%|██████████████████████████████████████████████████████████████████████████████████| 94/94 [00:30<00:00,  3.06it/s]\n"
     ]
    },
    {
     "name": "stdout",
     "output_type": "stream",
     "text": [
      "Epoch 16/20, Loss: 0.11611545085906982\n"
     ]
    },
    {
     "name": "stderr",
     "output_type": "stream",
     "text": [
      "100%|██████████████████████████████████████████████████████████████████████████████████| 94/94 [00:30<00:00,  3.05it/s]\n"
     ]
    },
    {
     "name": "stdout",
     "output_type": "stream",
     "text": [
      "Epoch 17/20, Loss: 0.04371531680226326\n"
     ]
    },
    {
     "name": "stderr",
     "output_type": "stream",
     "text": [
      "100%|██████████████████████████████████████████████████████████████████████████████████| 94/94 [00:30<00:00,  3.05it/s]\n"
     ]
    },
    {
     "name": "stdout",
     "output_type": "stream",
     "text": [
      "Epoch 18/20, Loss: 0.10252238065004349\n"
     ]
    },
    {
     "name": "stderr",
     "output_type": "stream",
     "text": [
      "100%|██████████████████████████████████████████████████████████████████████████████████| 94/94 [00:30<00:00,  3.05it/s]\n"
     ]
    },
    {
     "name": "stdout",
     "output_type": "stream",
     "text": [
      "Epoch 19/20, Loss: 0.13921289145946503\n"
     ]
    },
    {
     "name": "stderr",
     "output_type": "stream",
     "text": [
      "100%|██████████████████████████████████████████████████████████████████████████████████| 94/94 [00:30<00:00,  3.05it/s]\n"
     ]
    },
    {
     "name": "stdout",
     "output_type": "stream",
     "text": [
      "Epoch 20/20, Loss: 0.052675943821668625\n"
     ]
    }
   ],
   "source": [
    "from tqdm import tqdm\n",
    "\n",
    "# Model modification to predict rotation\n",
    "class RotationPredictor(nn.Module):\n",
    "    def __init__(self):\n",
    "        super().__init__()\n",
    "        self.resnet = models.resnet18(weights=models.ResNet18_Weights.DEFAULT)\n",
    "        self.resnet.fc = nn.Linear(self.resnet.fc.in_features, 4)  # Predicting 4 rotation classes\n",
    "\n",
    "    def forward(self, x):\n",
    "        return self.resnet(x)\n",
    "\n",
    "device = torch.device('cuda' if torch.cuda.is_available() else 'cpu')\n",
    "model = RotationPredictor().to(device)\n",
    "criterion = nn.CrossEntropyLoss()\n",
    "optimizer = torch.optim.Adam(model.parameters(), lr=0.001)\n",
    "\n",
    "# Training loop\n",
    "model.train()\n",
    "epochs = 20\n",
    "for epoch in range(epochs):\n",
    "  for images, labels in tqdm(dataloader):\n",
    "    images = images.to(device)\n",
    "    labels = labels.to(device)\n",
    "    outputs = model(images)\n",
    "    loss = criterion(outputs, labels)\n",
    "    optimizer.zero_grad()\n",
    "    loss.backward()\n",
    "    optimizer.step()\n",
    "  print(f\"Epoch {epoch + 1}/{epochs}, Loss: {loss.item()}\")\n",
    "\n",
    "torch.save(model.state_dict(), \"model.pt\")\n",
    "\n",
    "# Now the model is fine-tuned to predict rotations, which also improves its feature extraction capability"
   ]
  },
  {
   "cell_type": "code",
   "execution_count": 34,
   "metadata": {
    "id": "BDrXBLl-QsnA"
   },
   "outputs": [],
   "source": [
    "# Load the entire model (architecture + weights)\n",
    "#model = torch.load('model.pt')"
   ]
  },
  {
   "cell_type": "code",
   "execution_count": 11,
   "metadata": {
    "id": "LiWhVFHX_kTq"
   },
   "outputs": [],
   "source": [
    "def count_parameters(model):\n",
    "\treturn sum(p.numel() for p in model.parameters())\n"
   ]
  },
  {
   "cell_type": "code",
   "execution_count": 12,
   "metadata": {
    "colab": {
     "base_uri": "https://localhost:8080/"
    },
    "id": "2n-8fa7P_4Iq",
    "outputId": "6d34c85e-9057-498f-f662-c730eeb7f4ff"
   },
   "outputs": [
    {
     "data": {
      "text/plain": [
       "11178564"
      ]
     },
     "execution_count": 12,
     "metadata": {},
     "output_type": "execute_result"
    }
   ],
   "source": [
    "count_parameters(model)"
   ]
  },
  {
   "cell_type": "code",
   "execution_count": 13,
   "metadata": {
    "colab": {
     "base_uri": "https://localhost:8080/"
    },
    "id": "L1PoLfcW7393",
    "outputId": "27a8520c-a72d-4627-984a-d7fedcc1d421"
   },
   "outputs": [
    {
     "data": {
      "text/plain": [
       "(683072, 683072)"
      ]
     },
     "execution_count": 13,
     "metadata": {},
     "output_type": "execute_result"
    }
   ],
   "source": [
    "model.eval()\n",
    "import copy\n",
    "\n",
    "resnet_pretrained = models.resnet18(weights=models.ResNet18_Weights.DEFAULT)\n",
    "resnet_pretrained = nn.Sequential(*list(resnet_pretrained.children())[:-4], nn.AdaptiveAvgPool2d((1, 1)))\n",
    "resnet_pretrained = torch.quantization.quantize_dynamic(\n",
    "\tresnet_pretrained, {nn.Linear, nn.Conv2d}, dtype=torch.qint8\n",
    ")\n",
    "\n",
    "\n",
    "model_finetunned = copy.deepcopy(model.resnet)\n",
    "model_finetunned = nn.Sequential(*list(model_finetunned.children())[:-4], nn.AdaptiveAvgPool2d((1, 1)))\n",
    "model_finetunned = torch.quantization.quantize_dynamic(\n",
    "\tmodel_finetunned, {nn.Linear, nn.Conv2d}, dtype=torch.qint8\n",
    ")\n",
    "\n",
    "count_parameters(resnet_pretrained), count_parameters(model_finetunned)"
   ]
  },
  {
   "cell_type": "code",
   "execution_count": 14,
   "metadata": {
    "colab": {
     "base_uri": "https://localhost:8080/"
    },
    "id": "HVkpsJB8KYwQ",
    "outputId": "02cdff82-fb05-4e28-812c-90a7ef32fd33"
   },
   "outputs": [
    {
     "data": {
      "text/plain": [
       "RotationPredictor(\n",
       "  (resnet): ResNet(\n",
       "    (conv1): Conv2d(3, 64, kernel_size=(7, 7), stride=(2, 2), padding=(3, 3), bias=False)\n",
       "    (bn1): BatchNorm2d(64, eps=1e-05, momentum=0.1, affine=True, track_running_stats=True)\n",
       "    (relu): ReLU(inplace=True)\n",
       "    (maxpool): MaxPool2d(kernel_size=3, stride=2, padding=1, dilation=1, ceil_mode=False)\n",
       "    (layer1): Sequential(\n",
       "      (0): BasicBlock(\n",
       "        (conv1): Conv2d(64, 64, kernel_size=(3, 3), stride=(1, 1), padding=(1, 1), bias=False)\n",
       "        (bn1): BatchNorm2d(64, eps=1e-05, momentum=0.1, affine=True, track_running_stats=True)\n",
       "        (relu): ReLU(inplace=True)\n",
       "        (conv2): Conv2d(64, 64, kernel_size=(3, 3), stride=(1, 1), padding=(1, 1), bias=False)\n",
       "        (bn2): BatchNorm2d(64, eps=1e-05, momentum=0.1, affine=True, track_running_stats=True)\n",
       "      )\n",
       "      (1): BasicBlock(\n",
       "        (conv1): Conv2d(64, 64, kernel_size=(3, 3), stride=(1, 1), padding=(1, 1), bias=False)\n",
       "        (bn1): BatchNorm2d(64, eps=1e-05, momentum=0.1, affine=True, track_running_stats=True)\n",
       "        (relu): ReLU(inplace=True)\n",
       "        (conv2): Conv2d(64, 64, kernel_size=(3, 3), stride=(1, 1), padding=(1, 1), bias=False)\n",
       "        (bn2): BatchNorm2d(64, eps=1e-05, momentum=0.1, affine=True, track_running_stats=True)\n",
       "      )\n",
       "    )\n",
       "    (layer2): Sequential(\n",
       "      (0): BasicBlock(\n",
       "        (conv1): Conv2d(64, 128, kernel_size=(3, 3), stride=(2, 2), padding=(1, 1), bias=False)\n",
       "        (bn1): BatchNorm2d(128, eps=1e-05, momentum=0.1, affine=True, track_running_stats=True)\n",
       "        (relu): ReLU(inplace=True)\n",
       "        (conv2): Conv2d(128, 128, kernel_size=(3, 3), stride=(1, 1), padding=(1, 1), bias=False)\n",
       "        (bn2): BatchNorm2d(128, eps=1e-05, momentum=0.1, affine=True, track_running_stats=True)\n",
       "        (downsample): Sequential(\n",
       "          (0): Conv2d(64, 128, kernel_size=(1, 1), stride=(2, 2), bias=False)\n",
       "          (1): BatchNorm2d(128, eps=1e-05, momentum=0.1, affine=True, track_running_stats=True)\n",
       "        )\n",
       "      )\n",
       "      (1): BasicBlock(\n",
       "        (conv1): Conv2d(128, 128, kernel_size=(3, 3), stride=(1, 1), padding=(1, 1), bias=False)\n",
       "        (bn1): BatchNorm2d(128, eps=1e-05, momentum=0.1, affine=True, track_running_stats=True)\n",
       "        (relu): ReLU(inplace=True)\n",
       "        (conv2): Conv2d(128, 128, kernel_size=(3, 3), stride=(1, 1), padding=(1, 1), bias=False)\n",
       "        (bn2): BatchNorm2d(128, eps=1e-05, momentum=0.1, affine=True, track_running_stats=True)\n",
       "      )\n",
       "    )\n",
       "    (layer3): Sequential(\n",
       "      (0): BasicBlock(\n",
       "        (conv1): Conv2d(128, 256, kernel_size=(3, 3), stride=(2, 2), padding=(1, 1), bias=False)\n",
       "        (bn1): BatchNorm2d(256, eps=1e-05, momentum=0.1, affine=True, track_running_stats=True)\n",
       "        (relu): ReLU(inplace=True)\n",
       "        (conv2): Conv2d(256, 256, kernel_size=(3, 3), stride=(1, 1), padding=(1, 1), bias=False)\n",
       "        (bn2): BatchNorm2d(256, eps=1e-05, momentum=0.1, affine=True, track_running_stats=True)\n",
       "        (downsample): Sequential(\n",
       "          (0): Conv2d(128, 256, kernel_size=(1, 1), stride=(2, 2), bias=False)\n",
       "          (1): BatchNorm2d(256, eps=1e-05, momentum=0.1, affine=True, track_running_stats=True)\n",
       "        )\n",
       "      )\n",
       "      (1): BasicBlock(\n",
       "        (conv1): Conv2d(256, 256, kernel_size=(3, 3), stride=(1, 1), padding=(1, 1), bias=False)\n",
       "        (bn1): BatchNorm2d(256, eps=1e-05, momentum=0.1, affine=True, track_running_stats=True)\n",
       "        (relu): ReLU(inplace=True)\n",
       "        (conv2): Conv2d(256, 256, kernel_size=(3, 3), stride=(1, 1), padding=(1, 1), bias=False)\n",
       "        (bn2): BatchNorm2d(256, eps=1e-05, momentum=0.1, affine=True, track_running_stats=True)\n",
       "      )\n",
       "    )\n",
       "    (layer4): Sequential(\n",
       "      (0): BasicBlock(\n",
       "        (conv1): Conv2d(256, 512, kernel_size=(3, 3), stride=(2, 2), padding=(1, 1), bias=False)\n",
       "        (bn1): BatchNorm2d(512, eps=1e-05, momentum=0.1, affine=True, track_running_stats=True)\n",
       "        (relu): ReLU(inplace=True)\n",
       "        (conv2): Conv2d(512, 512, kernel_size=(3, 3), stride=(1, 1), padding=(1, 1), bias=False)\n",
       "        (bn2): BatchNorm2d(512, eps=1e-05, momentum=0.1, affine=True, track_running_stats=True)\n",
       "        (downsample): Sequential(\n",
       "          (0): Conv2d(256, 512, kernel_size=(1, 1), stride=(2, 2), bias=False)\n",
       "          (1): BatchNorm2d(512, eps=1e-05, momentum=0.1, affine=True, track_running_stats=True)\n",
       "        )\n",
       "      )\n",
       "      (1): BasicBlock(\n",
       "        (conv1): Conv2d(512, 512, kernel_size=(3, 3), stride=(1, 1), padding=(1, 1), bias=False)\n",
       "        (bn1): BatchNorm2d(512, eps=1e-05, momentum=0.1, affine=True, track_running_stats=True)\n",
       "        (relu): ReLU(inplace=True)\n",
       "        (conv2): Conv2d(512, 512, kernel_size=(3, 3), stride=(1, 1), padding=(1, 1), bias=False)\n",
       "        (bn2): BatchNorm2d(512, eps=1e-05, momentum=0.1, affine=True, track_running_stats=True)\n",
       "      )\n",
       "    )\n",
       "    (avgpool): AdaptiveAvgPool2d(output_size=(1, 1))\n",
       "    (fc): Linear(in_features=512, out_features=4, bias=True)\n",
       "  )\n",
       ")"
      ]
     },
     "execution_count": 14,
     "metadata": {},
     "output_type": "execute_result"
    }
   ],
   "source": [
    "model"
   ]
  },
  {
   "cell_type": "code",
   "execution_count": 15,
   "metadata": {
    "colab": {
     "base_uri": "https://localhost:8080/"
    },
    "id": "MfEBIVhSKbV3",
    "outputId": "bf4970ca-a27c-4e81-c69e-9e75df3da991"
   },
   "outputs": [
    {
     "data": {
      "text/plain": [
       "Sequential(\n",
       "  (0): Conv2d(3, 64, kernel_size=(7, 7), stride=(2, 2), padding=(3, 3), bias=False)\n",
       "  (1): BatchNorm2d(64, eps=1e-05, momentum=0.1, affine=True, track_running_stats=True)\n",
       "  (2): ReLU(inplace=True)\n",
       "  (3): MaxPool2d(kernel_size=3, stride=2, padding=1, dilation=1, ceil_mode=False)\n",
       "  (4): Sequential(\n",
       "    (0): BasicBlock(\n",
       "      (conv1): Conv2d(64, 64, kernel_size=(3, 3), stride=(1, 1), padding=(1, 1), bias=False)\n",
       "      (bn1): BatchNorm2d(64, eps=1e-05, momentum=0.1, affine=True, track_running_stats=True)\n",
       "      (relu): ReLU(inplace=True)\n",
       "      (conv2): Conv2d(64, 64, kernel_size=(3, 3), stride=(1, 1), padding=(1, 1), bias=False)\n",
       "      (bn2): BatchNorm2d(64, eps=1e-05, momentum=0.1, affine=True, track_running_stats=True)\n",
       "    )\n",
       "    (1): BasicBlock(\n",
       "      (conv1): Conv2d(64, 64, kernel_size=(3, 3), stride=(1, 1), padding=(1, 1), bias=False)\n",
       "      (bn1): BatchNorm2d(64, eps=1e-05, momentum=0.1, affine=True, track_running_stats=True)\n",
       "      (relu): ReLU(inplace=True)\n",
       "      (conv2): Conv2d(64, 64, kernel_size=(3, 3), stride=(1, 1), padding=(1, 1), bias=False)\n",
       "      (bn2): BatchNorm2d(64, eps=1e-05, momentum=0.1, affine=True, track_running_stats=True)\n",
       "    )\n",
       "  )\n",
       "  (5): Sequential(\n",
       "    (0): BasicBlock(\n",
       "      (conv1): Conv2d(64, 128, kernel_size=(3, 3), stride=(2, 2), padding=(1, 1), bias=False)\n",
       "      (bn1): BatchNorm2d(128, eps=1e-05, momentum=0.1, affine=True, track_running_stats=True)\n",
       "      (relu): ReLU(inplace=True)\n",
       "      (conv2): Conv2d(128, 128, kernel_size=(3, 3), stride=(1, 1), padding=(1, 1), bias=False)\n",
       "      (bn2): BatchNorm2d(128, eps=1e-05, momentum=0.1, affine=True, track_running_stats=True)\n",
       "      (downsample): Sequential(\n",
       "        (0): Conv2d(64, 128, kernel_size=(1, 1), stride=(2, 2), bias=False)\n",
       "        (1): BatchNorm2d(128, eps=1e-05, momentum=0.1, affine=True, track_running_stats=True)\n",
       "      )\n",
       "    )\n",
       "    (1): BasicBlock(\n",
       "      (conv1): Conv2d(128, 128, kernel_size=(3, 3), stride=(1, 1), padding=(1, 1), bias=False)\n",
       "      (bn1): BatchNorm2d(128, eps=1e-05, momentum=0.1, affine=True, track_running_stats=True)\n",
       "      (relu): ReLU(inplace=True)\n",
       "      (conv2): Conv2d(128, 128, kernel_size=(3, 3), stride=(1, 1), padding=(1, 1), bias=False)\n",
       "      (bn2): BatchNorm2d(128, eps=1e-05, momentum=0.1, affine=True, track_running_stats=True)\n",
       "    )\n",
       "  )\n",
       "  (6): AdaptiveAvgPool2d(output_size=(1, 1))\n",
       ")"
      ]
     },
     "execution_count": 15,
     "metadata": {},
     "output_type": "execute_result"
    }
   ],
   "source": [
    "resnet_pretrained"
   ]
  },
  {
   "cell_type": "code",
   "execution_count": 16,
   "metadata": {
    "colab": {
     "base_uri": "https://localhost:8080/"
    },
    "id": "OozJjlq8xAhg",
    "outputId": "2446d266-ca0d-4d07-90bb-1d43042186fd"
   },
   "outputs": [
    {
     "data": {
      "text/plain": [
       "tensor([[-4.5381,  5.0973, -2.3276, -0.5185]], device='cuda:0',\n",
       "       grad_fn=<AddmmBackward0>)"
      ]
     },
     "execution_count": 16,
     "metadata": {},
     "output_type": "execute_result"
    }
   ],
   "source": [
    "model(dataset[0][0].to(device).unsqueeze(0))"
   ]
  },
  {
   "cell_type": "code",
   "execution_count": 17,
   "metadata": {
    "id": "NgK4KvmnNcen"
   },
   "outputs": [],
   "source": [
    "resnet_pretrained = resnet_pretrained.to(\"cpu\")\n",
    "features_pretrained = torch.zeros((len(dataset), 128))\n"
   ]
  },
  {
   "cell_type": "code",
   "execution_count": 18,
   "metadata": {
    "colab": {
     "base_uri": "https://localhost:8080/"
    },
    "id": "tDH4YxdAT__H",
    "outputId": "4ae7f994-ea5c-422b-83ea-02d740a72bca"
   },
   "outputs": [
    {
     "name": "stderr",
     "output_type": "stream",
     "text": [
      "0it [00:00, ?it/s]"
     ]
    },
    {
     "name": "stdout",
     "output_type": "stream",
     "text": [
      "0\n"
     ]
    },
    {
     "name": "stderr",
     "output_type": "stream",
     "text": [
      "1it [00:01,  1.85s/it]"
     ]
    },
    {
     "name": "stdout",
     "output_type": "stream",
     "text": [
      "1\n"
     ]
    },
    {
     "name": "stderr",
     "output_type": "stream",
     "text": [
      "2it [00:02,  1.39s/it]"
     ]
    },
    {
     "name": "stdout",
     "output_type": "stream",
     "text": [
      "2\n"
     ]
    },
    {
     "name": "stderr",
     "output_type": "stream",
     "text": [
      "3it [00:04,  1.26s/it]"
     ]
    },
    {
     "name": "stdout",
     "output_type": "stream",
     "text": [
      "3\n"
     ]
    },
    {
     "name": "stderr",
     "output_type": "stream",
     "text": [
      "4it [00:05,  1.18s/it]"
     ]
    },
    {
     "name": "stdout",
     "output_type": "stream",
     "text": [
      "4\n"
     ]
    },
    {
     "name": "stderr",
     "output_type": "stream",
     "text": [
      "5it [00:06,  1.15s/it]"
     ]
    },
    {
     "name": "stdout",
     "output_type": "stream",
     "text": [
      "5\n"
     ]
    },
    {
     "name": "stderr",
     "output_type": "stream",
     "text": [
      "6it [00:07,  1.12s/it]"
     ]
    },
    {
     "name": "stdout",
     "output_type": "stream",
     "text": [
      "6\n"
     ]
    },
    {
     "name": "stderr",
     "output_type": "stream",
     "text": [
      "7it [00:08,  1.10s/it]"
     ]
    },
    {
     "name": "stdout",
     "output_type": "stream",
     "text": [
      "7\n"
     ]
    },
    {
     "name": "stderr",
     "output_type": "stream",
     "text": [
      "8it [00:09,  1.10s/it]"
     ]
    },
    {
     "name": "stdout",
     "output_type": "stream",
     "text": [
      "8\n"
     ]
    },
    {
     "name": "stderr",
     "output_type": "stream",
     "text": [
      "9it [00:10,  1.09s/it]"
     ]
    },
    {
     "name": "stdout",
     "output_type": "stream",
     "text": [
      "9\n"
     ]
    },
    {
     "name": "stderr",
     "output_type": "stream",
     "text": [
      "10it [00:11,  1.10s/it]"
     ]
    },
    {
     "name": "stdout",
     "output_type": "stream",
     "text": [
      "10\n"
     ]
    },
    {
     "name": "stderr",
     "output_type": "stream",
     "text": [
      "11it [00:12,  1.09s/it]"
     ]
    },
    {
     "name": "stdout",
     "output_type": "stream",
     "text": [
      "11\n"
     ]
    },
    {
     "name": "stderr",
     "output_type": "stream",
     "text": [
      "12it [00:13,  1.10s/it]"
     ]
    },
    {
     "name": "stdout",
     "output_type": "stream",
     "text": [
      "12\n"
     ]
    },
    {
     "name": "stderr",
     "output_type": "stream",
     "text": [
      "13it [00:14,  1.10s/it]"
     ]
    },
    {
     "name": "stdout",
     "output_type": "stream",
     "text": [
      "13\n"
     ]
    },
    {
     "name": "stderr",
     "output_type": "stream",
     "text": [
      "14it [00:16,  1.13s/it]"
     ]
    },
    {
     "name": "stdout",
     "output_type": "stream",
     "text": [
      "14\n"
     ]
    },
    {
     "name": "stderr",
     "output_type": "stream",
     "text": [
      "15it [00:17,  1.12s/it]"
     ]
    },
    {
     "name": "stdout",
     "output_type": "stream",
     "text": [
      "15\n"
     ]
    },
    {
     "name": "stderr",
     "output_type": "stream",
     "text": [
      "16it [00:18,  1.12s/it]"
     ]
    },
    {
     "name": "stdout",
     "output_type": "stream",
     "text": [
      "16\n"
     ]
    },
    {
     "name": "stderr",
     "output_type": "stream",
     "text": [
      "17it [00:19,  1.15s/it]"
     ]
    },
    {
     "name": "stdout",
     "output_type": "stream",
     "text": [
      "17\n"
     ]
    },
    {
     "name": "stderr",
     "output_type": "stream",
     "text": [
      "18it [00:20,  1.15s/it]"
     ]
    },
    {
     "name": "stdout",
     "output_type": "stream",
     "text": [
      "18\n"
     ]
    },
    {
     "name": "stderr",
     "output_type": "stream",
     "text": [
      "19it [00:21,  1.13s/it]"
     ]
    },
    {
     "name": "stdout",
     "output_type": "stream",
     "text": [
      "19\n"
     ]
    },
    {
     "name": "stderr",
     "output_type": "stream",
     "text": [
      "20it [00:22,  1.11s/it]"
     ]
    },
    {
     "name": "stdout",
     "output_type": "stream",
     "text": [
      "20\n"
     ]
    },
    {
     "name": "stderr",
     "output_type": "stream",
     "text": [
      "21it [00:23,  1.10s/it]"
     ]
    },
    {
     "name": "stdout",
     "output_type": "stream",
     "text": [
      "21\n"
     ]
    },
    {
     "name": "stderr",
     "output_type": "stream",
     "text": [
      "22it [00:25,  1.11s/it]"
     ]
    },
    {
     "name": "stdout",
     "output_type": "stream",
     "text": [
      "22\n"
     ]
    },
    {
     "name": "stderr",
     "output_type": "stream",
     "text": [
      "23it [00:26,  1.10s/it]"
     ]
    },
    {
     "name": "stdout",
     "output_type": "stream",
     "text": [
      "23\n"
     ]
    },
    {
     "name": "stderr",
     "output_type": "stream",
     "text": [
      "24it [00:27,  1.10s/it]"
     ]
    },
    {
     "name": "stdout",
     "output_type": "stream",
     "text": [
      "24\n"
     ]
    },
    {
     "name": "stderr",
     "output_type": "stream",
     "text": [
      "25it [00:28,  1.10s/it]"
     ]
    },
    {
     "name": "stdout",
     "output_type": "stream",
     "text": [
      "25\n"
     ]
    },
    {
     "name": "stderr",
     "output_type": "stream",
     "text": [
      "26it [00:29,  1.11s/it]"
     ]
    },
    {
     "name": "stdout",
     "output_type": "stream",
     "text": [
      "26\n"
     ]
    },
    {
     "name": "stderr",
     "output_type": "stream",
     "text": [
      "27it [00:30,  1.10s/it]"
     ]
    },
    {
     "name": "stdout",
     "output_type": "stream",
     "text": [
      "27\n"
     ]
    },
    {
     "name": "stderr",
     "output_type": "stream",
     "text": [
      "28it [00:31,  1.11s/it]"
     ]
    },
    {
     "name": "stdout",
     "output_type": "stream",
     "text": [
      "28\n"
     ]
    },
    {
     "name": "stderr",
     "output_type": "stream",
     "text": [
      "29it [00:32,  1.13s/it]"
     ]
    },
    {
     "name": "stdout",
     "output_type": "stream",
     "text": [
      "29\n"
     ]
    },
    {
     "name": "stderr",
     "output_type": "stream",
     "text": [
      "30it [00:33,  1.12s/it]"
     ]
    },
    {
     "name": "stdout",
     "output_type": "stream",
     "text": [
      "30\n"
     ]
    },
    {
     "name": "stderr",
     "output_type": "stream",
     "text": [
      "31it [00:35,  1.12s/it]"
     ]
    },
    {
     "name": "stdout",
     "output_type": "stream",
     "text": [
      "31\n"
     ]
    },
    {
     "name": "stderr",
     "output_type": "stream",
     "text": [
      "32it [00:36,  1.13s/it]"
     ]
    },
    {
     "name": "stdout",
     "output_type": "stream",
     "text": [
      "32\n"
     ]
    },
    {
     "name": "stderr",
     "output_type": "stream",
     "text": [
      "33it [00:37,  1.17s/it]"
     ]
    },
    {
     "name": "stdout",
     "output_type": "stream",
     "text": [
      "33\n"
     ]
    },
    {
     "name": "stderr",
     "output_type": "stream",
     "text": [
      "34it [00:38,  1.19s/it]"
     ]
    },
    {
     "name": "stdout",
     "output_type": "stream",
     "text": [
      "34\n"
     ]
    },
    {
     "name": "stderr",
     "output_type": "stream",
     "text": [
      "35it [00:39,  1.20s/it]"
     ]
    },
    {
     "name": "stdout",
     "output_type": "stream",
     "text": [
      "35\n"
     ]
    },
    {
     "name": "stderr",
     "output_type": "stream",
     "text": [
      "36it [00:41,  1.20s/it]"
     ]
    },
    {
     "name": "stdout",
     "output_type": "stream",
     "text": [
      "36\n"
     ]
    },
    {
     "name": "stderr",
     "output_type": "stream",
     "text": [
      "37it [00:42,  1.22s/it]"
     ]
    },
    {
     "name": "stdout",
     "output_type": "stream",
     "text": [
      "37\n"
     ]
    },
    {
     "name": "stderr",
     "output_type": "stream",
     "text": [
      "38it [00:43,  1.23s/it]"
     ]
    },
    {
     "name": "stdout",
     "output_type": "stream",
     "text": [
      "38\n"
     ]
    },
    {
     "name": "stderr",
     "output_type": "stream",
     "text": [
      "39it [00:44,  1.25s/it]"
     ]
    },
    {
     "name": "stdout",
     "output_type": "stream",
     "text": [
      "39\n"
     ]
    },
    {
     "name": "stderr",
     "output_type": "stream",
     "text": [
      "40it [00:46,  1.24s/it]"
     ]
    },
    {
     "name": "stdout",
     "output_type": "stream",
     "text": [
      "40\n"
     ]
    },
    {
     "name": "stderr",
     "output_type": "stream",
     "text": [
      "41it [00:47,  1.24s/it]"
     ]
    },
    {
     "name": "stdout",
     "output_type": "stream",
     "text": [
      "41\n"
     ]
    },
    {
     "name": "stderr",
     "output_type": "stream",
     "text": [
      "42it [00:48,  1.22s/it]"
     ]
    },
    {
     "name": "stdout",
     "output_type": "stream",
     "text": [
      "42\n"
     ]
    },
    {
     "name": "stderr",
     "output_type": "stream",
     "text": [
      "43it [00:49,  1.21s/it]"
     ]
    },
    {
     "name": "stdout",
     "output_type": "stream",
     "text": [
      "43\n"
     ]
    },
    {
     "name": "stderr",
     "output_type": "stream",
     "text": [
      "44it [00:50,  1.21s/it]"
     ]
    },
    {
     "name": "stdout",
     "output_type": "stream",
     "text": [
      "44\n"
     ]
    },
    {
     "name": "stderr",
     "output_type": "stream",
     "text": [
      "45it [00:52,  1.21s/it]"
     ]
    },
    {
     "name": "stdout",
     "output_type": "stream",
     "text": [
      "45\n"
     ]
    },
    {
     "name": "stderr",
     "output_type": "stream",
     "text": [
      "46it [00:53,  1.20s/it]"
     ]
    },
    {
     "name": "stdout",
     "output_type": "stream",
     "text": [
      "46\n"
     ]
    },
    {
     "name": "stderr",
     "output_type": "stream",
     "text": [
      "47it [00:54,  1.21s/it]"
     ]
    },
    {
     "name": "stdout",
     "output_type": "stream",
     "text": [
      "47\n"
     ]
    },
    {
     "name": "stderr",
     "output_type": "stream",
     "text": [
      "48it [00:55,  1.21s/it]"
     ]
    },
    {
     "name": "stdout",
     "output_type": "stream",
     "text": [
      "48\n"
     ]
    },
    {
     "name": "stderr",
     "output_type": "stream",
     "text": [
      "49it [00:57,  1.25s/it]"
     ]
    },
    {
     "name": "stdout",
     "output_type": "stream",
     "text": [
      "49\n"
     ]
    },
    {
     "name": "stderr",
     "output_type": "stream",
     "text": [
      "50it [00:58,  1.24s/it]"
     ]
    },
    {
     "name": "stdout",
     "output_type": "stream",
     "text": [
      "50\n"
     ]
    },
    {
     "name": "stderr",
     "output_type": "stream",
     "text": [
      "51it [00:59,  1.21s/it]"
     ]
    },
    {
     "name": "stdout",
     "output_type": "stream",
     "text": [
      "51\n"
     ]
    },
    {
     "name": "stderr",
     "output_type": "stream",
     "text": [
      "52it [01:00,  1.20s/it]"
     ]
    },
    {
     "name": "stdout",
     "output_type": "stream",
     "text": [
      "52\n"
     ]
    },
    {
     "name": "stderr",
     "output_type": "stream",
     "text": [
      "53it [01:01,  1.21s/it]"
     ]
    },
    {
     "name": "stdout",
     "output_type": "stream",
     "text": [
      "53\n"
     ]
    },
    {
     "name": "stderr",
     "output_type": "stream",
     "text": [
      "54it [01:03,  1.21s/it]"
     ]
    },
    {
     "name": "stdout",
     "output_type": "stream",
     "text": [
      "54\n"
     ]
    },
    {
     "name": "stderr",
     "output_type": "stream",
     "text": [
      "55it [01:04,  1.20s/it]"
     ]
    },
    {
     "name": "stdout",
     "output_type": "stream",
     "text": [
      "55\n"
     ]
    },
    {
     "name": "stderr",
     "output_type": "stream",
     "text": [
      "56it [01:05,  1.22s/it]"
     ]
    },
    {
     "name": "stdout",
     "output_type": "stream",
     "text": [
      "56\n"
     ]
    },
    {
     "name": "stderr",
     "output_type": "stream",
     "text": [
      "57it [01:06,  1.21s/it]"
     ]
    },
    {
     "name": "stdout",
     "output_type": "stream",
     "text": [
      "57\n"
     ]
    },
    {
     "name": "stderr",
     "output_type": "stream",
     "text": [
      "58it [01:07,  1.21s/it]"
     ]
    },
    {
     "name": "stdout",
     "output_type": "stream",
     "text": [
      "58\n"
     ]
    },
    {
     "name": "stderr",
     "output_type": "stream",
     "text": [
      "59it [01:09,  1.21s/it]"
     ]
    },
    {
     "name": "stdout",
     "output_type": "stream",
     "text": [
      "59\n"
     ]
    },
    {
     "name": "stderr",
     "output_type": "stream",
     "text": [
      "60it [01:10,  1.19s/it]"
     ]
    },
    {
     "name": "stdout",
     "output_type": "stream",
     "text": [
      "60\n"
     ]
    },
    {
     "name": "stderr",
     "output_type": "stream",
     "text": [
      "61it [01:11,  1.19s/it]"
     ]
    },
    {
     "name": "stdout",
     "output_type": "stream",
     "text": [
      "61\n"
     ]
    },
    {
     "name": "stderr",
     "output_type": "stream",
     "text": [
      "62it [01:12,  1.19s/it]"
     ]
    },
    {
     "name": "stdout",
     "output_type": "stream",
     "text": [
      "62\n"
     ]
    },
    {
     "name": "stderr",
     "output_type": "stream",
     "text": [
      "63it [01:13,  1.19s/it]"
     ]
    },
    {
     "name": "stdout",
     "output_type": "stream",
     "text": [
      "63\n"
     ]
    },
    {
     "name": "stderr",
     "output_type": "stream",
     "text": [
      "64it [01:15,  1.21s/it]"
     ]
    },
    {
     "name": "stdout",
     "output_type": "stream",
     "text": [
      "64\n"
     ]
    },
    {
     "name": "stderr",
     "output_type": "stream",
     "text": [
      "65it [01:16,  1.21s/it]"
     ]
    },
    {
     "name": "stdout",
     "output_type": "stream",
     "text": [
      "65\n"
     ]
    },
    {
     "name": "stderr",
     "output_type": "stream",
     "text": [
      "66it [01:17,  1.22s/it]"
     ]
    },
    {
     "name": "stdout",
     "output_type": "stream",
     "text": [
      "66\n"
     ]
    },
    {
     "name": "stderr",
     "output_type": "stream",
     "text": [
      "67it [01:18,  1.23s/it]"
     ]
    },
    {
     "name": "stdout",
     "output_type": "stream",
     "text": [
      "67\n"
     ]
    },
    {
     "name": "stderr",
     "output_type": "stream",
     "text": [
      "68it [01:19,  1.20s/it]"
     ]
    },
    {
     "name": "stdout",
     "output_type": "stream",
     "text": [
      "68\n"
     ]
    },
    {
     "name": "stderr",
     "output_type": "stream",
     "text": [
      "69it [01:21,  1.20s/it]"
     ]
    },
    {
     "name": "stdout",
     "output_type": "stream",
     "text": [
      "69\n"
     ]
    },
    {
     "name": "stderr",
     "output_type": "stream",
     "text": [
      "70it [01:22,  1.20s/it]"
     ]
    },
    {
     "name": "stdout",
     "output_type": "stream",
     "text": [
      "70\n"
     ]
    },
    {
     "name": "stderr",
     "output_type": "stream",
     "text": [
      "71it [01:23,  1.19s/it]"
     ]
    },
    {
     "name": "stdout",
     "output_type": "stream",
     "text": [
      "71\n"
     ]
    },
    {
     "name": "stderr",
     "output_type": "stream",
     "text": [
      "72it [01:24,  1.17s/it]"
     ]
    },
    {
     "name": "stdout",
     "output_type": "stream",
     "text": [
      "72\n"
     ]
    },
    {
     "name": "stderr",
     "output_type": "stream",
     "text": [
      "73it [01:25,  1.18s/it]"
     ]
    },
    {
     "name": "stdout",
     "output_type": "stream",
     "text": [
      "73\n"
     ]
    },
    {
     "name": "stderr",
     "output_type": "stream",
     "text": [
      "74it [01:27,  1.18s/it]"
     ]
    },
    {
     "name": "stdout",
     "output_type": "stream",
     "text": [
      "74\n"
     ]
    },
    {
     "name": "stderr",
     "output_type": "stream",
     "text": [
      "75it [01:28,  1.19s/it]"
     ]
    },
    {
     "name": "stdout",
     "output_type": "stream",
     "text": [
      "75\n"
     ]
    },
    {
     "name": "stderr",
     "output_type": "stream",
     "text": [
      "76it [01:29,  1.18s/it]"
     ]
    },
    {
     "name": "stdout",
     "output_type": "stream",
     "text": [
      "76\n"
     ]
    },
    {
     "name": "stderr",
     "output_type": "stream",
     "text": [
      "77it [01:30,  1.19s/it]"
     ]
    },
    {
     "name": "stdout",
     "output_type": "stream",
     "text": [
      "77\n"
     ]
    },
    {
     "name": "stderr",
     "output_type": "stream",
     "text": [
      "78it [01:31,  1.19s/it]"
     ]
    },
    {
     "name": "stdout",
     "output_type": "stream",
     "text": [
      "78\n"
     ]
    },
    {
     "name": "stderr",
     "output_type": "stream",
     "text": [
      "79it [01:33,  1.20s/it]"
     ]
    },
    {
     "name": "stdout",
     "output_type": "stream",
     "text": [
      "79\n"
     ]
    },
    {
     "name": "stderr",
     "output_type": "stream",
     "text": [
      "80it [01:34,  1.20s/it]"
     ]
    },
    {
     "name": "stdout",
     "output_type": "stream",
     "text": [
      "80\n"
     ]
    },
    {
     "name": "stderr",
     "output_type": "stream",
     "text": [
      "81it [01:35,  1.19s/it]"
     ]
    },
    {
     "name": "stdout",
     "output_type": "stream",
     "text": [
      "81\n"
     ]
    },
    {
     "name": "stderr",
     "output_type": "stream",
     "text": [
      "82it [01:36,  1.18s/it]"
     ]
    },
    {
     "name": "stdout",
     "output_type": "stream",
     "text": [
      "82\n"
     ]
    },
    {
     "name": "stderr",
     "output_type": "stream",
     "text": [
      "83it [01:37,  1.18s/it]"
     ]
    },
    {
     "name": "stdout",
     "output_type": "stream",
     "text": [
      "83\n"
     ]
    },
    {
     "name": "stderr",
     "output_type": "stream",
     "text": [
      "84it [01:38,  1.19s/it]"
     ]
    },
    {
     "name": "stdout",
     "output_type": "stream",
     "text": [
      "84\n"
     ]
    },
    {
     "name": "stderr",
     "output_type": "stream",
     "text": [
      "85it [01:40,  1.18s/it]"
     ]
    },
    {
     "name": "stdout",
     "output_type": "stream",
     "text": [
      "85\n"
     ]
    },
    {
     "name": "stderr",
     "output_type": "stream",
     "text": [
      "86it [01:41,  1.18s/it]"
     ]
    },
    {
     "name": "stdout",
     "output_type": "stream",
     "text": [
      "86\n"
     ]
    },
    {
     "name": "stderr",
     "output_type": "stream",
     "text": [
      "87it [01:42,  1.18s/it]"
     ]
    },
    {
     "name": "stdout",
     "output_type": "stream",
     "text": [
      "87\n"
     ]
    },
    {
     "name": "stderr",
     "output_type": "stream",
     "text": [
      "88it [01:43,  1.17s/it]"
     ]
    },
    {
     "name": "stdout",
     "output_type": "stream",
     "text": [
      "88\n"
     ]
    },
    {
     "name": "stderr",
     "output_type": "stream",
     "text": [
      "89it [01:44,  1.17s/it]"
     ]
    },
    {
     "name": "stdout",
     "output_type": "stream",
     "text": [
      "89\n"
     ]
    },
    {
     "name": "stderr",
     "output_type": "stream",
     "text": [
      "90it [01:45,  1.16s/it]"
     ]
    },
    {
     "name": "stdout",
     "output_type": "stream",
     "text": [
      "90\n"
     ]
    },
    {
     "name": "stderr",
     "output_type": "stream",
     "text": [
      "91it [01:47,  1.18s/it]"
     ]
    },
    {
     "name": "stdout",
     "output_type": "stream",
     "text": [
      "91\n"
     ]
    },
    {
     "name": "stderr",
     "output_type": "stream",
     "text": [
      "92it [01:48,  1.19s/it]"
     ]
    },
    {
     "name": "stdout",
     "output_type": "stream",
     "text": [
      "92\n"
     ]
    },
    {
     "name": "stderr",
     "output_type": "stream",
     "text": [
      "93it [01:49,  1.19s/it]"
     ]
    },
    {
     "name": "stdout",
     "output_type": "stream",
     "text": [
      "93\n"
     ]
    },
    {
     "name": "stderr",
     "output_type": "stream",
     "text": [
      "94it [01:50,  1.18s/it]\n"
     ]
    }
   ],
   "source": [
    "for i, (images, labels) in tqdm(enumerate(dataloader)):\n",
    "    print(f\"{i}\")\n",
    "    # images = images\n",
    "    # labels = labels\n",
    "    outputs = resnet_pretrained(images).squeeze().detach()\n",
    "    features_pretrained[i * 32: i * 32 + len(images)] = outputs"
   ]
  },
  {
   "cell_type": "code",
   "execution_count": 19,
   "metadata": {
    "id": "XOSI3j8aXe1M"
   },
   "outputs": [],
   "source": [
    "features_pretrained\n",
    "torch.save(features_pretrained, \"tens.pt\")"
   ]
  },
  {
   "cell_type": "code",
   "execution_count": 21,
   "metadata": {
    "colab": {
     "base_uri": "https://localhost:8080/"
    },
    "id": "SWep8KT4zGmA",
    "outputId": "dfed1c62-411f-413f-cc81-558f30b99e64"
   },
   "outputs": [
    {
     "name": "stdout",
     "output_type": "stream",
     "text": [
      "['0_0.jpg', '0_1.jpg', '0_2.jpg', '1000_0.jpg', '1000_1.jpg', '1000_2.jpg', '1001_0.jpg', '1001_1.jpg', '1001_2.jpg', '1002_0.jpg', '1002_1.jpg', '1002_2.jpg', '1003_0.jpg', '1003_1.jpg', '1003_2.jpg', '1004_0.jpg', '1004_1.jpg', '1004_2.jpg', '1005_0.jpg', '1005_1.jpg', '1005_2.jpg', '1006_0.jpg', '1006_1.jpg', '1007_0.jpg', '1007_1.jpg', '1007_2.jpg', '1008_0.jpg', '1008_1.jpg', '1008_2.jpg', '1009_0.jpg', '1009_1.jpg', '1009_2.jpg', '100_0.jpg', '100_1.jpg', '100_2.jpg', '1010_0.jpg', '1010_1.jpg', '1010_2.jpg', '1011_0.jpg', '1011_1.jpg', '1011_2.jpg', '1012_0.jpg', '1012_1.jpg', '1012_2.jpg', '1013_0.jpg', '1013_1.jpg', '1013_2.jpg', '1014_0.jpg', '1014_1.jpg', '1014_2.jpg', '1015_0.jpg', '1015_1.jpg', '1015_2.jpg', '1017_0.jpg', '1017_1.jpg', '1017_2.jpg', '1018_0.jpg', '1019_0.jpg', '1019_1.jpg', '1019_2.jpg', '101_0.jpg', '101_1.jpg', '101_2.jpg', '1020_0.jpg', '1020_1.jpg', '1020_2.jpg', '1021_0.jpg', '1021_1.jpg', '1021_2.jpg', '1022_0.jpg', '1022_1.jpg', '1022_2.jpg', '1023_0.jpg', '1023_1.jpg', '1023_2.jpg', '1025_0.jpg', '1025_1.jpg', '1025_2.jpg', '1026_0.jpg', '1026_1.jpg', '1026_2.jpg', '1027_0.jpg', '1027_1.jpg', '1027_2.jpg', '1028_0.jpg', '1028_1.jpg', '1028_2.jpg', '1029_0.jpg', '1029_1.jpg', '1029_2.jpg', '102_0.jpg', '102_1.jpg', '1030_0.jpg', '1031_0.jpg', '1031_1.jpg', '1031_2.jpg', '1032_0.jpg', '1032_1.jpg', '1032_2.jpg', '1033_0.jpg', '1033_1.jpg', '1034_0.jpg', '1034_1.jpg', '1034_2.jpg', '1036_0.jpg', '1036_1.jpg', '1036_2.jpg', '1037_0.jpg', '1037_1.jpg', '1037_2.jpg', '1038_0.jpg', '1038_1.jpg', '1038_2.jpg', '1039_0.jpg', '1039_1.jpg', '1039_2.jpg', '103_0.jpg', '103_1.jpg', '103_2.jpg', '1040_0.jpg', '1040_1.jpg', '1040_2.jpg', '1041_0.jpg', '1041_1.jpg', '1041_2.jpg', '1042_0.jpg', '1042_1.jpg', '1042_2.jpg', '1043_0.jpg', '1043_1.jpg', '1043_2.jpg', '1044_0.jpg', '1044_1.jpg', '1044_2.jpg', '1045_0.jpg', '1045_1.jpg', '1045_2.jpg', '1046_0.jpg', '1046_1.jpg', '1047_0.jpg', '1047_1.jpg', '1047_2.jpg', '1048_0.jpg', '1048_1.jpg', '1049_0.jpg', '1049_1.jpg', '1049_2.jpg', '104_0.jpg', '104_1.jpg', '104_2.jpg', '1050_0.jpg', '1050_1.jpg', '1050_2.jpg', '1051_0.jpg', '1051_1.jpg', '1051_2.jpg', '1052_0.jpg', '1052_1.jpg', '1052_2.jpg', '1053_0.jpg', '1053_1.jpg', '1053_2.jpg', '1054_0.jpg', '1054_1.jpg', '1054_2.jpg', '1055_0.jpg', '1055_1.jpg', '1055_2.jpg', '1056_0.jpg', '1056_1.jpg', '1056_2.jpg', '1057_0.jpg', '1057_1.jpg', '1057_2.jpg', '1058_0.jpg', '1058_1.jpg', '1058_2.jpg', '1059_0.jpg', '1059_1.jpg', '1059_2.jpg', '105_0.jpg', '105_1.jpg', '105_2.jpg', '1060_0.jpg', '1060_1.jpg', '1061_0.jpg', '1062_0.jpg', '1062_1.jpg', '1062_2.jpg', '1063_0.jpg', '1063_1.jpg', '1063_2.jpg', '1064_0.jpg', '1064_1.jpg', '1064_2.jpg', '1065_0.jpg', '1065_1.jpg', '1065_2.jpg', '1066_0.jpg', '1067_0.jpg', '1067_1.jpg', '1067_2.jpg', '1068_0.jpg', '1068_1.jpg', '1068_2.jpg', '1069_0.jpg', '1069_1.jpg', '1069_2.jpg', '106_0.jpg', '106_1.jpg', '106_2.jpg', '1070_0.jpg', '1070_1.jpg', '1070_2.jpg', '1071_0.jpg', '1071_1.jpg', '1071_2.jpg', '1072_0.jpg', '1072_1.jpg', '1072_2.jpg', '1073_0.jpg', '1073_1.jpg', '1073_2.jpg', '1074_0.jpg', '1074_1.jpg', '1074_2.jpg', '1075_0.jpg', '1075_1.jpg', '1075_2.jpg', '1076_0.jpg', '1076_1.jpg', '1076_2.jpg', '1077_0.jpg', '1077_1.jpg', '1077_2.jpg', '1078_0.jpg', '1078_1.jpg', '1078_2.jpg', '1079_0.jpg', '1079_1.jpg', '1079_2.jpg', '107_0.jpg', '107_1.jpg', '107_2.jpg', '1080_0.jpg', '1080_1.jpg', '1080_2.jpg', '1081_0.jpg', '1081_1.jpg', '1081_2.jpg', '1082_0.jpg', '1082_1.jpg', '1082_2.jpg', '1083_0.jpg', '1083_1.jpg', '1083_2.jpg', '1084_0.jpg', '1084_1.jpg', '1084_2.jpg', '1085_0.jpg', '1085_1.jpg', '1085_2.jpg', '1086_0.jpg', '1086_1.jpg', '1086_2.jpg', '1087_0.jpg', '1087_1.jpg', '1087_2.jpg', '1088_1.jpg', '1089_0.jpg', '1089_1.jpg', '1089_2.jpg', '108_0.jpg', '108_1.jpg', '108_2.jpg', '1090_0.jpg', '1090_1.jpg', '1090_2.jpg', '1091_0.jpg', '1091_1.jpg', '1091_2.jpg', '1092_0.jpg', '1092_1.jpg', '1092_2.jpg', '1093_0.jpg', '1093_1.jpg', '1093_2.jpg', '1094_1.jpg', '1095_0.jpg', '1095_1.jpg', '1095_2.jpg', '1096_0.jpg', '1096_1.jpg', '1096_2.jpg', '1097_0.jpg', '1097_1.jpg', '1097_2.jpg', '1098_0.jpg', '1098_1.jpg', '1098_2.jpg', '1099_0.jpg', '1099_1.jpg', '1099_2.jpg', '109_0.jpg', '109_1.jpg', '109_2.jpg', '10_0.jpg', '10_1.jpg', '10_2.jpg', '1100_0.jpg', '1100_1.jpg', '1100_2.jpg', '1101_0.jpg', '1101_1.jpg', '1101_2.jpg', '1102_0.jpg', '1102_1.jpg', '1102_2.jpg', '1103_0.jpg', '1103_1.jpg', '1103_2.jpg', '1104_0.jpg', '1104_1.jpg', '1105_0.jpg', '1105_1.jpg', '1105_2.jpg', '1106_0.jpg', '1106_1.jpg', '1106_2.jpg', '1107_0.jpg', '1107_1.jpg', '1107_2.jpg', '1108_0.jpg', '1108_1.jpg', '1108_2.jpg', '1109_0.jpg', '1109_1.jpg', '1109_2.jpg', '110_0.jpg', '110_1.jpg', '110_2.jpg', '1110_0.jpg', '1110_1.jpg', '1110_2.jpg', '1111_0.jpg', '1111_1.jpg', '1111_2.jpg', '1112_0.jpg', '1112_1.jpg', '1112_2.jpg', '1113_0.jpg', '1113_1.jpg', '1113_2.jpg', '1114_0.jpg', '1115_0.jpg', '1115_1.jpg', '1115_2.jpg', '1116_0.jpg', '1116_1.jpg', '1116_2.jpg', '1117_0.jpg', '1117_1.jpg', '1118_0.jpg', '1118_1.jpg', '1118_2.jpg', '1119_0.jpg', '1119_1.jpg', '1119_2.jpg', '111_0.jpg', '111_1.jpg', '111_2.jpg', '1120_0.jpg', '1120_1.jpg', '1120_2.jpg', '1121_0.jpg', '1121_1.jpg', '1122_0.jpg', '1122_1.jpg', '1122_2.jpg', '1123_0.jpg', '1123_1.jpg', '1124_0.jpg', '1124_1.jpg', '1124_2.jpg', '1125_0.jpg', '1125_1.jpg', '1125_2.jpg', '1126_0.jpg', '1126_1.jpg', '1126_2.jpg', '1127_0.jpg', '1127_1.jpg', '1127_2.jpg', '1128_0.jpg', '1128_1.jpg', '1128_2.jpg', '1129_0.jpg', '1129_1.jpg', '1129_2.jpg', '112_0.jpg', '112_1.jpg', '112_2.jpg', '1130_0.jpg', '1130_1.jpg', '1131_0.jpg', '1131_1.jpg', '1131_2.jpg', '1132_0.jpg', '1132_1.jpg', '1132_2.jpg', '1133_0.jpg', '1133_1.jpg', '1133_2.jpg', '1134_0.jpg', '1134_1.jpg', '1134_2.jpg', '1135_0.jpg', '1135_1.jpg', '1136_0.jpg', '1136_1.jpg', '1136_2.jpg', '1137_1.jpg', '1137_2.jpg', '1138_0.jpg', '1138_1.jpg', '1138_2.jpg', '1139_0.jpg', '1139_1.jpg', '1139_2.jpg', '113_0.jpg', '113_1.jpg', '113_2.jpg', '1140_0.jpg', '1140_1.jpg', '1140_2.jpg', '1141_0.jpg', '1141_1.jpg', '1141_2.jpg', '1142_0.jpg', '1142_1.jpg', '1142_2.jpg', '1143_0.jpg', '1143_1.jpg', '1143_2.jpg', '1144_0.jpg', '1144_1.jpg', '1144_2.jpg', '1145_0.jpg', '1145_1.jpg', '1145_2.jpg', '1146_0.jpg', '1146_1.jpg', '1146_2.jpg', '1147_0.jpg', '1147_1.jpg', '1147_2.jpg', '1148_0.jpg', '1148_1.jpg', '1148_2.jpg', '1149_0.jpg', '1149_1.jpg', '1149_2.jpg', '114_0.jpg', '114_1.jpg', '114_2.jpg', '1150_0.jpg', '1150_1.jpg', '1151_0.jpg', '1151_1.jpg', '1151_2.jpg', '1152_0.jpg', '1152_1.jpg', '1152_2.jpg', '1153_0.jpg', '1153_1.jpg', '1153_2.jpg', '1154_0.jpg', '1154_1.jpg', '1154_2.jpg', '1155_0.jpg', '1155_1.jpg', '1156_0.jpg', '1156_1.jpg', '1156_2.jpg', '1157_0.jpg', '1157_1.jpg', '1158_0.jpg', '1158_1.jpg', '1159_0.jpg', '1159_1.jpg', '115_0.jpg', '115_1.jpg', '115_2.jpg', '1160_0.jpg', '1160_1.jpg', '1160_2.jpg', '1161_0.jpg', '1161_1.jpg', '1161_2.jpg', '1162_0.jpg', '1162_1.jpg', '1162_2.jpg', '1163_0.jpg', '1163_1.jpg', '1163_2.jpg', '1164_0.jpg', '1164_1.jpg', '1164_2.jpg', '1165_0.jpg', '1165_1.jpg', '1165_2.jpg', '1166_0.jpg', '1166_1.jpg', '1166_2.jpg', '1167_0.jpg', '1167_1.jpg', '1167_2.jpg', '1168_0.jpg', '1168_1.jpg', '1168_2.jpg', '1169_0.jpg', '1169_1.jpg', '1169_2.jpg', '116_0.jpg', '116_1.jpg', '116_2.jpg', '1170_0.jpg', '1170_1.jpg', '1171_0.jpg', '1171_1.jpg', '1172_0.jpg', '1172_1.jpg', '1172_2.jpg', '1173_0.jpg', '1173_1.jpg', '1173_2.jpg', '1174_0.jpg', '1174_1.jpg', '1174_2.jpg', '1175_0.jpg', '1175_1.jpg', '1175_2.jpg', '1176_0.jpg', '1176_1.jpg', '1176_2.jpg', '1177_0.jpg', '1177_1.jpg', '1178_0.jpg', '1178_1.jpg', '1178_2.jpg', '1179_0.jpg', '1179_1.jpg', '1179_2.jpg', '117_0.jpg', '117_1.jpg', '117_2.jpg', '1180_0.jpg', '1180_1.jpg', '1180_2.jpg', '1181_0.jpg', '1181_1.jpg', '1181_2.jpg', '1182_0.jpg', '1182_1.jpg', '1182_2.jpg', '1183_0.jpg', '1183_1.jpg', '1183_2.jpg', '1184_0.jpg', '1184_1.jpg', '1184_2.jpg', '1185_0.jpg', '1185_1.jpg', '1185_2.jpg', '1186_0.jpg', '1186_1.jpg', '1186_2.jpg', '1187_0.jpg', '1187_1.jpg', '1187_2.jpg', '1188_0.jpg', '1188_1.jpg', '1188_2.jpg', '1189_0.jpg', '1189_1.jpg', '1189_2.jpg', '118_0.jpg', '118_1.jpg', '118_2.jpg', '1190_0.jpg', '1190_1.jpg', '1190_2.jpg', '1191_0.jpg', '1191_1.jpg', '1191_2.jpg', '1192_0.jpg', '1192_1.jpg', '1193_0.jpg', '1193_1.jpg', '1193_2.jpg', '1194_0.jpg', '1194_1.jpg', '1194_2.jpg', '1195_0.jpg', '1195_1.jpg', '1195_2.jpg', '1196_0.jpg', '1196_1.jpg', '1196_2.jpg', '1197_0.jpg', '1197_1.jpg', '1197_2.jpg', '1198_0.jpg', '1198_1.jpg', '1198_2.jpg', '1199_0.jpg', '1199_1.jpg', '1199_2.jpg', '119_0.jpg', '119_1.jpg', '11_0.jpg', '11_1.jpg', '11_2.jpg', '1200_0.jpg', '1200_1.jpg', '1200_2.jpg', '1201_0.jpg', '1201_1.jpg', '1201_2.jpg', '1202_0.jpg', '1202_1.jpg', '1202_2.jpg', '1203_0.jpg', '1203_1.jpg', '1203_2.jpg', '1204_0.jpg', '1204_1.jpg', '1204_2.jpg', '1205_0.jpg', '1205_1.jpg', '1206_0.jpg', '1206_1.jpg', '1206_2.jpg', '1207_0.jpg', '1207_1.jpg', '1207_2.jpg', '1208_0.jpg', '1208_1.jpg', '1208_2.jpg', '1209_0.jpg', '1209_1.jpg', '1209_2.jpg', '120_0.jpg', '120_1.jpg', '120_2.jpg', '1210_0.jpg', '1210_1.jpg', '1210_2.jpg', '1211_0.jpg', '1211_1.jpg', '1211_2.jpg', '1212_0.jpg', '1212_1.jpg', '1212_2.jpg', '1213_0.jpg', '1213_1.jpg', '1213_2.jpg', '1214_0.jpg', '1214_1.jpg', '1214_2.jpg', '1215_0.jpg', '1215_1.jpg', '1216_0.jpg', '1216_1.jpg', '1216_2.jpg', '1217_0.jpg', '1217_1.jpg', '1217_2.jpg', '1218_0.jpg', '1218_1.jpg', '1218_2.jpg', '1219_0.jpg', '1219_1.jpg', '1219_2.jpg', '121_0.jpg', '121_1.jpg', '121_2.jpg', '1220_0.jpg', '1220_1.jpg', '1220_2.jpg', '1221_0.jpg', '1221_1.jpg', '1221_2.jpg', '1222_0.jpg', '1222_1.jpg', '1222_2.jpg', '1223_0.jpg', '1223_1.jpg', '1223_2.jpg', '1224_0.jpg', '1224_1.jpg', '1224_2.jpg', '1225_0.jpg', '1225_1.jpg', '1226_0.jpg', '1226_1.jpg', '1227_0.jpg', '1227_1.jpg', '1227_2.jpg', '1228_0.jpg', '1228_1.jpg', '1229_0.jpg', '1229_1.jpg', '1229_2.jpg', '122_0.jpg', '122_1.jpg', '1230_0.jpg', '1230_1.jpg', '1230_2.jpg', '1231_0.jpg', '1231_1.jpg', '1231_2.jpg', '1232_0.jpg', '1232_1.jpg', '1232_2.jpg', '1233_0.jpg', '1233_1.jpg', '1233_2.jpg', '1234_0.jpg', '1234_1.jpg', '1234_2.jpg', '1235_0.jpg', '1235_1.jpg', '1236_0.jpg', '1236_1.jpg', '1236_2.jpg', '1237_0.jpg', '1237_1.jpg', '1238_0.jpg', '1238_1.jpg', '1238_2.jpg', '1239_0.jpg', '1239_1.jpg', '1239_2.jpg', '123_0.jpg', '123_1.jpg', '123_2.jpg', '1240_0.jpg', '1240_1.jpg', '1241_0.jpg', '1241_1.jpg', '1241_2.jpg', '1242_0.jpg', '1242_1.jpg', '1242_2.jpg', '1243_0.jpg', '1243_1.jpg', '1243_2.jpg', '1244_0.jpg', '1244_1.jpg', '1244_2.jpg', '1245_0.jpg', '1245_1.jpg', '1245_2.jpg', '1246_0.jpg', '1246_1.jpg', '1246_2.jpg', '1247_0.jpg', '1247_1.jpg', '1248_0.jpg', '1248_1.jpg', '1248_2.jpg', '1249_0.jpg', '1249_1.jpg', '1249_2.jpg', '124_0.jpg', '124_1.jpg', '124_2.jpg', '1250_0.jpg', '1250_1.jpg', '1250_2.jpg', '1251_0.jpg', '1251_1.jpg', '1251_2.jpg', '1252_0.jpg', '1252_1.jpg', '1252_2.jpg', '1253_0.jpg', '1253_1.jpg', '1253_2.jpg', '1254_0.jpg', '1254_1.jpg', '1254_2.jpg', '1255_0.jpg', '1255_1.jpg', '1255_2.jpg', '1256_0.jpg', '1256_1.jpg', '1256_2.jpg', '1257_0.jpg', '1257_1.jpg', '1257_2.jpg', '1258_0.jpg', '1258_1.jpg', '1258_2.jpg', '1259_0.jpg', '1259_1.jpg', '1259_2.jpg', '125_0.jpg', '125_1.jpg', '125_2.jpg', '1260_0.jpg', '1260_1.jpg', '1261_0.jpg', '1261_1.jpg', '1261_2.jpg', '1262_0.jpg', '1262_1.jpg', '1262_2.jpg', '1263_0.jpg', '1263_1.jpg', '1263_2.jpg', '1264_0.jpg', '1264_1.jpg', '1264_2.jpg', '1265_0.jpg', '1265_1.jpg', '1265_2.jpg', '1266_0.jpg', '1266_1.jpg', '1266_2.jpg', '1267_0.jpg', '1267_1.jpg', '1267_2.jpg', '1268_0.jpg', '1268_1.jpg', '1268_2.jpg', '1269_0.jpg', '1269_1.jpg', '1269_2.jpg', '126_0.jpg', '126_1.jpg', '126_2.jpg', '1270_0.jpg', '1270_1.jpg', '1270_2.jpg', '1271_0.jpg', '1271_1.jpg', '1271_2.jpg', '1272_0.jpg', '1272_1.jpg', '1272_2.jpg', '1273_0.jpg', '1273_1.jpg', '1273_2.jpg', '1274_0.jpg', '1274_1.jpg', '1274_2.jpg', '1275_0.jpg', '1275_1.jpg', '1275_2.jpg', '1276_0.jpg', '1276_1.jpg', '1276_2.jpg', '1277_0.jpg', '1277_1.jpg', '1277_2.jpg', '1278_0.jpg', '1278_1.jpg', '1278_2.jpg', '1279_0.jpg', '1279_1.jpg', '1279_2.jpg', '127_0.jpg', '127_1.jpg', '127_2.jpg', '1280_0.jpg', '1280_1.jpg', '1280_2.jpg', '1281_0.jpg', '1281_1.jpg', '1281_2.jpg', '1282_0.jpg', '1282_1.jpg', '1282_2.jpg', '1283_0.jpg', '1283_1.jpg', '1283_2.jpg', '1284_0.jpg', '1284_1.jpg', '1284_2.jpg', '1285_0.jpg', '1285_1.jpg', '1285_2.jpg', '1286_0.jpg', '1286_1.jpg', '1286_2.jpg', '1287_0.jpg', '1287_1.jpg', '1287_2.jpg', '1288_0.jpg', '1288_1.jpg', '1288_2.jpg', '1289_0.jpg', '1289_1.jpg', '128_0.jpg', '128_1.jpg', '128_2.jpg', '1290_0.jpg', '1290_1.jpg', '1291_0.jpg', '1291_1.jpg', '1291_2.jpg', '1292_0.jpg', '1292_1.jpg', '1292_2.jpg', '1293_0.jpg', '1293_1.jpg', '1293_2.jpg', '1294_0.jpg', '1294_1.jpg', '1294_2.jpg', '1295_0.jpg', '1295_1.jpg', '1295_2.jpg', '1296_0.jpg', '1296_1.jpg', '1296_2.jpg', '1297_0.jpg', '1297_1.jpg', '1297_2.jpg', '1298_0.jpg', '1298_1.jpg', '1298_2.jpg', '1299_0.jpg', '1299_1.jpg', '1299_2.jpg', '129_0.jpg', '129_1.jpg', '129_2.jpg', '12_0.jpg', '12_1.jpg', '12_2.jpg', '1300_0.jpg', '1300_1.jpg', '1300_2.jpg', '1301_0.jpg', '1301_1.jpg', '1301_2.jpg', '1302_0.jpg', '1302_1.jpg', '1302_2.jpg', '1303_0.jpg', '1303_1.jpg', '1303_2.jpg', '1304_0.jpg', '1304_1.jpg', '1304_2.jpg', '1305_0.jpg', '1305_1.jpg', '1305_2.jpg', '1306_0.jpg', '1306_1.jpg', '1306_2.jpg', '1307_0.jpg', '1307_1.jpg', '1307_2.jpg', '1308_0.jpg', '1308_1.jpg', '1309_0.jpg', '1309_1.jpg', '1309_2.jpg', '130_0.jpg', '130_1.jpg', '130_2.jpg', '1310_0.jpg', '1310_1.jpg', '1310_2.jpg', '1311_0.jpg', '1311_1.jpg', '1311_2.jpg', '1312_0.jpg', '1312_1.jpg', '1312_2.jpg', '1313_0.jpg', '1313_1.jpg', '1313_2.jpg', '1314_0.jpg', '1314_1.jpg', '1314_2.jpg', '1315_0.jpg', '1315_1.jpg', '1315_2.jpg', '1316_0.jpg', '1316_1.jpg', '1316_2.jpg', '1317_0.jpg', '1317_1.jpg', '1317_2.jpg', '1318_0.jpg', '1318_1.jpg', '1318_2.jpg', '1319_0.jpg', '1319_1.jpg', '1319_2.jpg', '131_0.jpg', '131_1.jpg', '131_2.jpg', '1320_0.jpg', '1320_1.jpg', '1320_2.jpg', '1321_0.jpg', '1321_1.jpg', '1321_2.jpg', '1322_0.jpg', '1322_1.jpg', '1322_2.jpg', '1323_0.jpg', '1323_1.jpg', '1323_2.jpg', '1324_0.jpg', '1324_1.jpg', '1324_2.jpg', '1325_0.jpg', '1325_1.jpg', '1325_2.jpg', '1326_0.jpg', '1326_1.jpg', '1326_2.jpg', '1327_0.jpg', '1327_1.jpg', '1327_2.jpg', '1328_0.jpg', '1328_1.jpg', '1328_2.jpg', '1329_0.jpg', '1329_1.jpg', '1329_2.jpg', '132_0.jpg', '132_1.jpg', '132_2.jpg', '1330_0.jpg', '1330_1.jpg', '1330_2.jpg', '1331_0.jpg', '1331_1.jpg', '1332_0.jpg', '1332_1.jpg', '1333_0.jpg', '1333_1.jpg', '1333_2.jpg', '1334_0.jpg', '1334_1.jpg', '1334_2.jpg', '1335_0.jpg', '1335_1.jpg', '1335_2.jpg', '1336_0.jpg', '1336_1.jpg', '1336_2.jpg', '1337_0.jpg', '1337_1.jpg', '1337_2.jpg', '1338_0.jpg', '1338_1.jpg', '1338_2.jpg', '1339_0.jpg', '1339_1.jpg', '1339_2.jpg', '133_0.jpg', '133_1.jpg', '133_2.jpg', '1340_0.jpg', '1340_1.jpg', '1341_0.jpg', '1341_1.jpg', '1341_2.jpg', '1342_0.jpg', '1342_1.jpg', '1342_2.jpg', '1343_0.jpg', '1343_1.jpg', '1343_2.jpg', '1344_0.jpg', '1344_1.jpg', '1345_0.jpg', '1345_1.jpg', '1345_2.jpg', '1346_0.jpg', '1346_1.jpg', '1346_2.jpg', '1347_0.jpg', '1347_1.jpg', '1347_2.jpg', '1348_0.jpg', '1348_1.jpg', '1349_0.jpg', '1349_1.jpg', '1349_2.jpg', '134_0.jpg', '134_1.jpg', '134_2.jpg', '1350_0.jpg', '1350_1.jpg', '1350_2.jpg', '1351_0.jpg', '1351_1.jpg', '1351_2.jpg', '1352_0.jpg', '1352_1.jpg', '1352_2.jpg', '1353_0.jpg', '1353_1.jpg', '1353_2.jpg', '1354_0.jpg', '1354_1.jpg', '1354_2.jpg', '1355_0.jpg', '1355_1.jpg', '1355_2.jpg', '1356_0.jpg', '1356_1.jpg', '1356_2.jpg', '1357_0.jpg', '1357_1.jpg', '1357_2.jpg', '1358_0.jpg', '1358_1.jpg', '1358_2.jpg', '1359_0.jpg', '1359_1.jpg', '1359_2.jpg', '135_0.jpg', '135_1.jpg', '135_2.jpg', '1360_0.jpg', '1360_1.jpg', '1360_2.jpg', '1361_0.jpg', '1361_1.jpg', '1361_2.jpg', '1362_0.jpg', '1362_1.jpg', '1362_2.jpg', '1363_0.jpg', '1363_1.jpg', '1363_2.jpg', '1364_0.jpg', '1364_1.jpg', '1364_2.jpg', '1365_0.jpg', '1365_1.jpg', '1365_2.jpg', '1366_0.jpg', '1366_1.jpg', '1367_0.jpg', '1367_1.jpg', '1367_2.jpg', '1368_0.jpg', '1368_1.jpg', '1369_0.jpg', '1369_1.jpg', '1369_2.jpg', '136_0.jpg', '136_1.jpg', '1370_0.jpg', '1370_1.jpg', '1370_2.jpg', '1371_0.jpg', '1371_1.jpg', '1371_2.jpg', '1372_0.jpg', '1372_1.jpg', '1372_2.jpg', '1373_0.jpg', '1373_1.jpg', '1373_2.jpg', '1374_0.jpg', '1374_1.jpg', '1374_2.jpg', '1375_0.jpg', '1375_1.jpg', '1375_2.jpg', '1376_0.jpg', '1376_1.jpg', '1377_0.jpg', '1377_1.jpg', '1378_0.jpg', '1378_1.jpg', '1379_0.jpg', '1379_1.jpg', '137_0.jpg', '137_1.jpg', '1380_0.jpg', '1380_1.jpg', '1380_2.jpg', '1381_0.jpg', '1381_1.jpg', '1381_2.jpg', '1382_0.jpg', '1382_1.jpg', '1382_2.jpg', '1383_0.jpg', '1383_1.jpg', '1383_2.jpg', '1384_0.jpg', '1384_1.jpg', '1384_2.jpg', '1385_0.jpg', '1385_1.jpg', '1385_2.jpg', '1386_0.jpg', '1386_1.jpg', '1386_2.jpg', '1387_0.jpg', '1387_1.jpg', '1387_2.jpg', '1388_0.jpg', '1388_1.jpg', '1388_2.jpg', '1389_0.jpg', '1389_1.jpg', '1389_2.jpg', '138_0.jpg', '138_1.jpg', '138_2.jpg', '1390_0.jpg', '1390_1.jpg', '1390_2.jpg', '139_0.jpg', '139_1.jpg', '139_2.jpg', '13_0.jpg', '13_1.jpg', '13_2.jpg', '1401_2.jpg', '1402_0.jpg', '1402_1.jpg', '1402_2.jpg', '1403_0.jpg', '1403_1.jpg', '1403_2.jpg', '1404_0.jpg', '1404_1.jpg', '1404_2.jpg', '1405_0.jpg', '1405_1.jpg', '1406_0.jpg', '1406_1.jpg', '1406_2.jpg', '1407_0.jpg', '1407_1.jpg', '1407_2.jpg', '1408_0.jpg', '1408_1.jpg', '1409_0.jpg', '1409_1.jpg', '1409_2.jpg', '140_0.jpg', '140_1.jpg', '1410_0.jpg', '1410_1.jpg', '1410_2.jpg', '1411_0.jpg', '1411_1.jpg', '1411_2.jpg', '1412_0.jpg', '1412_1.jpg', '1412_2.jpg', '1413_0.jpg', '1413_1.jpg', '1413_2.jpg', '1414_0.jpg', '1414_1.jpg', '1414_2.jpg', '1415_0.jpg', '1415_1.jpg', '1415_2.jpg', '1416_0.jpg', '1416_1.jpg', '1416_2.jpg', '1417_0.jpg', '1417_1.jpg', '1417_2.jpg', '1418_0.jpg', '1418_1.jpg', '1418_2.jpg', '1419_0.jpg', '1419_1.jpg', '1419_2.jpg', '141_0.jpg', '141_1.jpg', '141_2.jpg', '1420_0.jpg', '1420_1.jpg', '1421_0.jpg', '1421_1.jpg', '1422_0.jpg', '1422_1.jpg', '1422_2.jpg', '1423_0.jpg', '1423_1.jpg', '1423_2.jpg', '1424_0.jpg', '1424_1.jpg', '1424_2.jpg', '1425_0.jpg', '1425_1.jpg', '1426_0.jpg', '1426_1.jpg', '1426_2.jpg', '1427_0.jpg', '1427_1.jpg', '1427_2.jpg', '1428_0.jpg', '1428_1.jpg', '1428_2.jpg', '1429_0.jpg', '1429_1.jpg', '1429_2.jpg', '142_0.jpg', '142_1.jpg', '142_2.jpg', '1430_0.jpg', '1430_1.jpg', '1430_2.jpg', '1431_0.jpg', '1431_1.jpg', '1431_2.jpg', '1432_0.jpg', '1432_1.jpg', '1432_2.jpg', '1433_0.jpg', '1433_1.jpg', '1433_2.jpg', '1434_0.jpg', '1434_1.jpg', '1435_0.jpg', '1435_1.jpg', '1435_2.jpg', '1436_0.jpg', '1436_1.jpg', '1436_2.jpg', '1437_0.jpg', '1437_1.jpg', '1438_0.jpg', '1438_1.jpg', '1438_2.jpg', '1439_0.jpg', '1439_1.jpg', '143_0.jpg', '143_1.jpg', '143_2.jpg', '1440_0.jpg', '1440_1.jpg', '1440_2.jpg', '1441_0.jpg', '1441_1.jpg', '1441_2.jpg', '1442_0.jpg', '1442_1.jpg', '1443_0.jpg', '1443_1.jpg', '1444_0.jpg', '1444_1.jpg', '1444_2.jpg', '1445_0.jpg', '1445_1.jpg', '1445_2.jpg', '1446_0.jpg', '1446_1.jpg', '1447_0.jpg', '1447_1.jpg', '1447_2.jpg', '1448_0.jpg', '1448_1.jpg', '1448_2.jpg', '1449_0.jpg', '1449_1.jpg', '1449_2.jpg', '144_0.jpg', '144_1.jpg', '144_2.jpg', '1450_0.jpg', '1450_1.jpg', '1450_2.jpg', '1451_0.jpg', '1451_1.jpg', '1451_2.jpg', '1452_0.jpg', '1452_1.jpg', '1452_2.jpg', '1453_0.jpg', '1453_1.jpg', '1453_2.jpg', '1454_0.jpg', '1454_1.jpg', '1454_2.jpg', '1455_0.jpg', '1455_1.jpg', '1455_2.jpg', '1456_0.jpg', '1456_1.jpg', '1457_0.jpg', '1457_1.jpg', '1458_0.jpg', '1458_1.jpg', '1459_0.jpg', '1459_1.jpg', '1459_2.jpg', '145_0.jpg', '145_1.jpg', '145_2.jpg', '1460_0.jpg', '1460_1.jpg', '1460_2.jpg', '1461_0.jpg', '1461_1.jpg', '1461_2.jpg', '1462_0.jpg', '1462_1.jpg', '1462_2.jpg', '1463_0.jpg', '1463_1.jpg', '1463_2.jpg', '1464_0.jpg', '1464_1.jpg', '1464_2.jpg', '1465_0.jpg', '1465_1.jpg', '1466_0.jpg', '1466_1.jpg', '1466_2.jpg', '1467_0.jpg', '1467_1.jpg', '1467_2.jpg', '1468_0.jpg', '1468_1.jpg', '1468_2.jpg', '1469_0.jpg', '1469_1.jpg', '1469_2.jpg', '146_0.jpg', '146_1.jpg', '146_2.jpg', '1470_0.jpg', '1470_1.jpg', '1470_2.jpg', '1471_0.jpg', '1471_1.jpg', '1471_2.jpg', '1472_0.jpg', '1472_1.jpg', '1472_2.jpg', '1473_0.jpg', '1473_1.jpg', '1473_2.jpg', '1474_0.jpg', '1474_1.jpg', '1474_2.jpg', '1475_0.jpg', '1475_1.jpg', '1475_2.jpg', '1476_0.jpg', '1476_1.jpg', '1477_0.jpg', '1477_1.jpg', '1477_2.jpg', '1478_0.jpg', '1478_1.jpg', '1478_2.jpg', '1479_0.jpg', '1479_1.jpg', '1479_2.jpg', '147_0.jpg', '147_1.jpg', '147_2.jpg', '1480_0.jpg', '1480_1.jpg', '1480_2.jpg', '1481_0.jpg', '1481_1.jpg', '1481_2.jpg', '1482_0.jpg', '1482_1.jpg', '1482_2.jpg', '1483_0.jpg', '1483_1.jpg', '1483_2.jpg', '1484_0.jpg', '1484_1.jpg', '1485_0.jpg', '1485_1.jpg', '1485_2.jpg', '1486_0.jpg', '1486_1.jpg', '1486_2.jpg', '1487_0.jpg', '1487_1.jpg', '1487_2.jpg', '1488_0.jpg', '1488_1.jpg', '1488_2.jpg', '1489_0.jpg', '1489_1.jpg', '1489_2.jpg', '148_0.jpg', '148_1.jpg', '1490_0.jpg', '1490_1.jpg', '1490_2.jpg', '1491_0.jpg', '1491_1.jpg', '1491_2.jpg', '1492_0.jpg', '1492_1.jpg', '1492_2.jpg', '1493_0.jpg', '1493_1.jpg', '1493_2.jpg', '1494_0.jpg', '1494_1.jpg', '1494_2.jpg', '1495_0.jpg', '1495_1.jpg', '1495_2.jpg', '1496_0.jpg', '1496_1.jpg', '1496_2.jpg', '1497_0.jpg', '1497_1.jpg', '1497_2.jpg', '1498_0.jpg', '1498_1.jpg', '1498_2.jpg', '1499_0.jpg', '1499_1.jpg', '1499_2.jpg', '149_0.jpg', '149_1.jpg', '14_0.jpg', '1500_0.jpg', '1500_1.jpg', '1500_2.jpg', '1501_0.jpg', '1501_1.jpg', '1501_2.jpg', '1502_0.jpg', '1502_1.jpg', '1502_2.jpg', '1503_0.jpg', '1503_1.jpg', '1503_2.jpg', '1504_0.jpg', '1504_1.jpg', '1504_2.jpg', '1505_0.jpg', '1505_1.jpg', '1506_0.jpg', '1506_1.jpg', '1506_2.jpg', '1507_0.jpg', '1507_1.jpg', '1507_2.jpg', '1508_0.jpg', '1508_1.jpg', '1508_2.jpg', '1509_0.jpg', '1509_1.jpg', '1509_2.jpg', '150_0.jpg', '150_1.jpg', '1510_0.jpg', '1510_1.jpg', '1510_2.jpg', '1511_0.jpg', '1511_1.jpg', '1511_2.jpg', '1512_0.jpg', '1512_1.jpg', '1512_2.jpg', '1513_0.jpg', '1513_1.jpg', '1514_0.jpg', '1514_1.jpg', '1515_0.jpg', '1515_1.jpg', '1515_2.jpg', '1516_0.jpg', '1516_1.jpg', '1517_0.jpg', '1517_1.jpg', '1518_0.jpg', '1518_1.jpg', '1518_2.jpg', '1519_0.jpg', '1519_1.jpg', '1519_2.jpg', '151_0.jpg', '151_1.jpg', '151_2.jpg', '1520_0.jpg', '1520_1.jpg', '1520_2.jpg', '1521_0.jpg', '1521_1.jpg', '1521_2.jpg', '1522_0.jpg', '1522_1.jpg', '1522_2.jpg', '1523_0.jpg', '1523_1.jpg', '1523_2.jpg', '1524_0.jpg', '1524_1.jpg', '1524_2.jpg', '1525_0.jpg', '1525_1.jpg', '1525_2.jpg', '1526_0.jpg', '1526_1.jpg', '1526_2.jpg', '1527_0.jpg', '1527_1.jpg', '1527_2.jpg', '1528_0.jpg', '1528_1.jpg', '1528_2.jpg', '1529_0.jpg', '1529_1.jpg', '1529_2.jpg', '152_0.jpg', '152_1.jpg', '152_2.jpg', '1530_0.jpg', '1530_1.jpg', '1530_2.jpg', '1531_0.jpg', '1531_1.jpg', '1531_2.jpg', '1532_0.jpg', '1532_1.jpg', '1532_2.jpg', '1533_0.jpg', '1533_1.jpg', '1533_2.jpg', '1534_0.jpg', '1534_1.jpg', '1534_2.jpg', '1535_0.jpg', '1535_1.jpg', '1535_2.jpg', '1536_0.jpg', '1536_1.jpg', '1536_2.jpg', '1537_0.jpg', '1537_1.jpg', '1537_2.jpg', '1538_0.jpg', '1538_1.jpg', '1538_2.jpg', '1539_0.jpg', '1539_1.jpg', '1539_2.jpg', '153_0.jpg', '153_1.jpg', '153_2.jpg', '1540_0.jpg', '1540_1.jpg', '1540_2.jpg', '1541_0.jpg', '1541_1.jpg', '1541_2.jpg', '1542_0.jpg', '1542_1.jpg', '1542_2.jpg', '1543_0.jpg', '1543_1.jpg', '1543_2.jpg', '1544_0.jpg', '1544_1.jpg', '1544_2.jpg', '1545_0.jpg', '1545_1.jpg', '1545_2.jpg', '1546_0.jpg', '1546_1.jpg', '1547_0.jpg', '1548_0.jpg', '1548_1.jpg', '1548_2.jpg', '1549_0.jpg', '1549_1.jpg', '1549_2.jpg', '154_0.jpg', '154_1.jpg', '154_2.jpg', '1550_0.jpg', '1550_1.jpg', '1550_2.jpg', '1551_0.jpg', '1551_1.jpg', '1551_2.jpg', '1552_0.jpg', '1552_1.jpg', '1552_2.jpg', '1553_0.jpg', '1553_1.jpg', '1554_0.jpg', '1554_1.jpg', '1554_2.jpg', '1555_0.jpg', '1555_1.jpg', '1555_2.jpg', '1556_0.jpg', '1556_1.jpg', '1556_2.jpg', '1557_0.jpg', '1557_1.jpg', '1557_2.jpg', '1558_0.jpg', '1558_1.jpg', '1558_2.jpg', '1559_0.jpg', '1559_1.jpg', '1559_2.jpg', '155_0.jpg', '155_1.jpg', '155_2.jpg', '1560_0.jpg', '1560_1.jpg', '1560_2.jpg', '1561_0.jpg', '1561_1.jpg', '1561_2.jpg', '1562_0.jpg', '1562_1.jpg', '1562_2.jpg', '1563_0.jpg', '1563_1.jpg', '1563_2.jpg', '1564_0.jpg', '1564_1.jpg', '1564_2.jpg', '1565_0.jpg', '1565_1.jpg', '1565_2.jpg', '1566_0.jpg', '1566_1.jpg', '1566_2.jpg', '1567_0.jpg', '1567_1.jpg', '1567_2.jpg', '1568_0.jpg', '1568_1.jpg', '1568_2.jpg', '1569_0.jpg', '1569_1.jpg', '1569_2.jpg', '156_0.jpg', '156_1.jpg', '156_2.jpg', '1570_0.jpg', '1570_1.jpg', '1570_2.jpg', '1571_0.jpg', '1571_1.jpg', '1571_2.jpg', '1572_0.jpg', '1572_1.jpg', '1572_2.jpg', '1573_0.jpg', '1573_1.jpg', '1573_2.jpg', '1574_0.jpg', '1574_1.jpg', '1575_0.jpg', '1575_1.jpg', '1575_2.jpg', '1576_0.jpg', '1576_1.jpg', '1576_2.jpg', '1577_0.jpg', '1577_1.jpg', '1577_2.jpg', '1578_0.jpg', '1578_1.jpg', '1578_2.jpg', '1579_0.jpg', '1579_1.jpg', '1579_2.jpg', '157_0.jpg', '157_1.jpg', '157_2.jpg', '1580_0.jpg', '1580_1.jpg', '1580_2.jpg', '1581_0.jpg', '1581_1.jpg', '1581_2.jpg', '1582_0.jpg', '1582_1.jpg', '1583_0.jpg', '1583_1.jpg', '1583_2.jpg', '1584_0.jpg', '1584_1.jpg', '1585_0.jpg', '1585_1.jpg', '1585_2.jpg', '1586_0.jpg', '1586_1.jpg', '1586_2.jpg', '1587_0.jpg', '1587_1.jpg', '1587_2.jpg', '1588_0.jpg', '1588_1.jpg', '1588_2.jpg', '1589_0.jpg', '1589_1.jpg', '1589_2.jpg', '158_0.jpg', '158_1.jpg', '158_2.jpg', '1590_0.jpg', '1590_1.jpg', '1590_2.jpg', '1591_0.jpg', '1591_1.jpg', '1591_2.jpg', '1592_0.jpg', '1592_1.jpg', '1592_2.jpg', '1593_0.jpg', '1593_1.jpg', '1593_2.jpg', '1594_0.jpg', '1594_1.jpg', '1594_2.jpg', '1595_0.jpg', '1595_1.jpg', '1595_2.jpg', '1596_0.jpg', '1596_1.jpg', '1596_2.jpg', '1597_0.jpg', '1597_1.jpg', '1597_2.jpg', '1598_0.jpg', '1598_1.jpg', '1598_2.jpg', '1599_0.jpg', '1599_1.jpg', '1599_2.jpg', '159_0.jpg', '159_1.jpg', '159_2.jpg', '15_0.jpg', '15_1.jpg', '15_2.jpg', '1600_0.jpg', '1600_1.jpg', '1601_0.jpg', '1601_1.jpg', '1601_2.jpg', '1602_0.jpg', '1602_1.jpg', '1602_2.jpg', '1603_0.jpg', '1603_1.jpg', '1603_2.jpg', '1604_0.jpg', '1604_1.jpg', '1604_2.jpg', '1605_0.jpg', '1605_1.jpg', '1605_2.jpg', '1606_0.jpg', '1606_1.jpg', '1607_0.jpg', '1607_1.jpg', '1607_2.jpg', '1608_0.jpg', '1608_1.jpg', '1608_2.jpg', '1609_0.jpg', '1609_1.jpg', '1609_2.jpg', '160_0.jpg', '160_1.jpg', '160_2.jpg', '1610_0.jpg', '1610_1.jpg', '1610_2.jpg', '1611_0.jpg', '1611_1.jpg', '1611_2.jpg', '1612_0.jpg', '1612_1.jpg', '1613_0.jpg', '1613_1.jpg', '1614_0.jpg', '1614_1.jpg', '1614_2.jpg', '1615_0.jpg', '1615_1.jpg', '1615_2.jpg', '1616_0.jpg', '1616_1.jpg', '1616_2.jpg', '1617_0.jpg', '1617_1.jpg', '1618_0.jpg', '1618_1.jpg', '1618_2.jpg', '1619_0.jpg', '1619_1.jpg', '1619_2.jpg', '161_0.jpg', '161_1.jpg', '161_2.jpg', '1620_0.jpg', '1620_1.jpg', '1621_0.jpg', '1621_1.jpg', '1622_0.jpg', '1622_1.jpg', '1622_2.jpg', '1623_0.jpg', '1623_1.jpg', '1624_0.jpg', '1624_1.jpg', '1624_2.jpg', '1625_0.jpg', '1625_1.jpg', '1626_0.jpg', '1626_1.jpg', '1626_2.jpg', '1627_0.jpg', '1627_1.jpg', '1627_2.jpg', '1628_0.jpg', '1628_1.jpg', '1628_2.jpg', '1629_0.jpg', '1629_1.jpg', '162_0.jpg', '162_1.jpg', '162_2.jpg', '1630_0.jpg', '1630_1.jpg', '1630_2.jpg', '1631_0.jpg', '1631_1.jpg', '1631_2.jpg', '1632_0.jpg', '1632_1.jpg', '1632_2.jpg', '1633_0.jpg', '1633_1.jpg', '1633_2.jpg', '1634_0.jpg', '1634_1.jpg', '1634_2.jpg', '1635_0.jpg', '1635_1.jpg', '1635_2.jpg', '1636_0.jpg', '1636_1.jpg', '1637_0.jpg', '1637_1.jpg', '1637_2.jpg', '1638_0.jpg', '1638_1.jpg', '1638_2.jpg', '1639_0.jpg', '1639_1.jpg', '1639_2.jpg', '163_0.jpg', '163_1.jpg', '1640_0.jpg', '1640_1.jpg', '1640_2.jpg', '1641_0.jpg', '1641_1.jpg', '1641_2.jpg', '1642_0.jpg', '1642_1.jpg', '1642_2.jpg', '1643_0.jpg', '1643_1.jpg', '1643_2.jpg', '1644_0.jpg', '1644_1.jpg', '1644_2.jpg', '1645_0.jpg', '1645_1.jpg', '1646_0.jpg', '1646_1.jpg', '1646_2.jpg', '1647_0.jpg', '1647_1.jpg', '1647_2.jpg', '1648_0.jpg', '1648_1.jpg', '1648_2.jpg', '1649_0.jpg', '1649_1.jpg', '164_0.jpg', '164_1.jpg', '164_2.jpg', '1650_0.jpg', '1650_1.jpg', '1650_2.jpg', '1651_0.jpg', '1651_1.jpg', '1651_2.jpg', '1652_0.jpg', '1652_1.jpg', '1653_0.jpg', '1653_1.jpg', '1653_2.jpg', '1654_0.jpg', '1654_1.jpg', '1655_0.jpg', '1655_1.jpg', '1655_2.jpg', '1656_0.jpg', '1656_1.jpg', '1656_2.jpg', '1657_0.jpg', '1657_1.jpg', '1657_2.jpg', '1658_0.jpg', '1658_1.jpg', '1658_2.jpg', '1659_0.jpg', '1659_1.jpg', '1659_2.jpg', '165_0.jpg', '165_1.jpg', '165_2.jpg', '1660_0.jpg', '1660_1.jpg', '1660_2.jpg', '1661_0.jpg', '1661_1.jpg', '1661_2.jpg', '1662_0.jpg', '1662_1.jpg', '1662_2.jpg', '1663_0.jpg', '1663_1.jpg', '1663_2.jpg', '1664_0.jpg', '1664_1.jpg', '1665_0.jpg', '1665_1.jpg', '1665_2.jpg', '1666_0.jpg', '1666_1.jpg', '1666_2.jpg', '1667_0.jpg', '1667_1.jpg', '1667_2.jpg', '1668_0.jpg', '1668_1.jpg', '1668_2.jpg', '1669_0.jpg', '1669_1.jpg', '166_0.jpg', '166_1.jpg', '166_2.jpg', '1670_0.jpg', '1670_1.jpg', '1670_2.jpg', '1671_0.jpg', '1671_1.jpg', '1671_2.jpg', '1672_0.jpg', '1672_1.jpg', '1672_2.jpg', '1673_0.jpg', '1673_1.jpg', '1673_2.jpg', '1674_0.jpg', '1674_1.jpg', '1674_2.jpg', '1675_0.jpg', '1675_1.jpg', '1675_2.jpg', '1676_0.jpg', '1676_1.jpg', '1676_2.jpg', '1677_0.jpg', '1677_1.jpg', '1677_2.jpg', '1678_0.jpg', '1678_1.jpg', '1678_2.jpg', '1679_0.jpg', '1679_1.jpg', '1679_2.jpg', '167_0.jpg', '167_1.jpg', '167_2.jpg', '1680_0.jpg', '1680_1.jpg', '1680_2.jpg', '1681_0.jpg', '1681_1.jpg', '1682_0.jpg', '1682_1.jpg', '1683_0.jpg', '1683_1.jpg', '1684_0.jpg', '1684_1.jpg', '1684_2.jpg', '1685_0.jpg', '1685_1.jpg', '1685_2.jpg', '1686_0.jpg', '1686_1.jpg', '1686_2.jpg', '1687_0.jpg', '1687_1.jpg', '1687_2.jpg', '1688_0.jpg', '1688_1.jpg', '1688_2.jpg', '1689_0.jpg', '1689_1.jpg', '168_0.jpg', '168_1.jpg', '168_2.jpg', '1690_0.jpg', '1690_1.jpg', '1691_0.jpg', '1691_1.jpg', '1692_0.jpg', '1692_1.jpg', '1693_0.jpg', '1693_1.jpg', '1694_0.jpg', '1694_1.jpg', '1694_2.jpg', '1695_0.jpg', '1695_1.jpg', '1695_2.jpg', '1696_0.jpg', '1696_1.jpg', '1696_2.jpg', '1697_0.jpg', '1697_1.jpg', '1698_0.jpg', '1698_1.jpg', '1698_2.jpg', '1699_0.jpg', '1699_1.jpg', '1699_2.jpg', '169_0.jpg', '169_1.jpg', '16_0.jpg', '16_1.jpg', '16_2.jpg', '1700_0.jpg', '1700_1.jpg', '1700_2.jpg', '1701_0.jpg', '1701_1.jpg', '1702_0.jpg', '1702_1.jpg', '1702_2.jpg', '1703_0.jpg', '1703_1.jpg', '1703_2.jpg', '1704_0.jpg', '1704_1.jpg', '1705_0.jpg', '1705_1.jpg', '1705_2.jpg', '1706_0.jpg', '1706_1.jpg', '1706_2.jpg', '1707_0.jpg', '1707_1.jpg', '1707_2.jpg', '1708_0.jpg', '1708_1.jpg', '1708_2.jpg', '1709_0.jpg', '1709_1.jpg', '1709_2.jpg', '170_0.jpg', '170_1.jpg', '170_2.jpg', '1710_0.jpg', '1710_1.jpg', '1710_2.jpg', '1711_0.jpg', '1711_1.jpg', '1711_2.jpg', '1712_0.jpg', '1712_1.jpg', '1712_2.jpg', '1713_0.jpg', '1713_1.jpg', '1713_2.jpg', '1714_0.jpg', '1714_1.jpg', '1714_2.jpg', '1715_0.jpg', '1715_1.jpg', '1715_2.jpg', '1716_0.jpg', '1716_1.jpg', '1717_0.jpg', '1717_1.jpg', '1718_0.jpg', '1718_1.jpg', '1718_2.jpg', '1719_0.jpg', '1719_1.jpg', '1719_2.jpg', '171_0.jpg', '171_1.jpg', '171_2.jpg', '1720_0.jpg', '1720_1.jpg', '1720_2.jpg', '1721_0.jpg', '1721_1.jpg', '1721_2.jpg', '1722_0.jpg', '1722_1.jpg', '1723_0.jpg', '1723_1.jpg', '1723_2.jpg', '1724_0.jpg', '1724_1.jpg', '1724_2.jpg', '1725_0.jpg', '1725_1.jpg', '1725_2.jpg', '1726_0.jpg', '1726_1.jpg', '1726_2.jpg', '1727_0.jpg', '1727_1.jpg', '1727_2.jpg', '1728_0.jpg', '1728_1.jpg', '1728_2.jpg', '1729_0.jpg', '1729_1.jpg', '1729_2.jpg', '172_0.jpg', '172_1.jpg', '172_2.jpg', '1730_0.jpg', '1730_1.jpg', '1731_0.jpg', '1731_1.jpg', '1731_2.jpg', '1732_0.jpg', '1732_1.jpg', '1732_2.jpg', '1733_0.jpg', '1733_1.jpg', '1734_0.jpg', '1734_1.jpg', '1734_2.jpg', '1735_0.jpg', '1735_1.jpg', '1735_2.jpg', '1736_0.jpg', '1736_1.jpg', '1736_2.jpg', '1737_0.jpg', '1737_1.jpg', '1737_2.jpg', '1738_0.jpg', '1738_1.jpg', '1738_2.jpg', '1739_0.jpg', '1739_1.jpg', '173_0.jpg', '173_1.jpg', '1740_0.jpg', '1740_1.jpg', '1740_2.jpg', '1741_0.jpg', '1741_1.jpg', '1741_2.jpg', '1742_0.jpg', '1742_1.jpg', '1742_2.jpg', '1743_0.jpg', '1743_1.jpg', '1743_2.jpg', '1744_0.jpg', '1744_1.jpg', '1744_2.jpg', '1745_0.jpg', '1745_1.jpg', '1745_2.jpg', '1746_0.jpg', '1746_1.jpg', '1746_2.jpg', '1747_0.jpg', '1747_1.jpg', '1747_2.jpg', '1748_0.jpg', '1748_1.jpg', '1748_2.jpg', '1749_0.jpg', '1749_1.jpg', '1749_2.jpg', '174_0.jpg', '174_1.jpg', '174_2.jpg', '1750_0.jpg', '1750_1.jpg', '1750_2.jpg', '1751_0.jpg', '1751_1.jpg', '1751_2.jpg', '1752_0.jpg', '1752_1.jpg', '1752_2.jpg', '1753_0.jpg', '1753_1.jpg', '1753_2.jpg', '1754_0.jpg', '1754_1.jpg', '1754_2.jpg', '1755_0.jpg', '1755_1.jpg', '1755_2.jpg', '1756_0.jpg', '1756_1.jpg', '1756_2.jpg', '1757_0.jpg', '1757_1.jpg', '1757_2.jpg', '1758_0.jpg', '1758_1.jpg', '1758_2.jpg', '1759_0.jpg', '1759_1.jpg', '1759_2.jpg', '175_0.jpg', '175_1.jpg', '175_2.jpg', '1760_0.jpg', '1760_1.jpg', '1761_0.jpg', '1761_1.jpg', '1761_2.jpg', '1762_0.jpg', '1762_1.jpg', '1762_2.jpg', '1763_0.jpg', '1763_1.jpg', '1763_2.jpg', '1764_0.jpg', '1764_1.jpg', '1764_2.jpg', '1765_0.jpg', '1765_1.jpg', '1765_2.jpg', '1766_0.jpg', '1766_1.jpg', '1767_0.jpg', '1767_1.jpg', '1767_2.jpg', '1768_0.jpg', '1768_1.jpg', '1768_2.jpg', '1769_0.jpg', '1769_1.jpg', '1769_2.jpg', '176_0.jpg', '176_1.jpg', '176_2.jpg', '1770_0.jpg', '1770_1.jpg', '1771_0.jpg', '1771_1.jpg', '1771_2.jpg', '1772_0.jpg', '1772_1.jpg', '1772_2.jpg', '1773_0.jpg', '1773_1.jpg', '1774_0.jpg', '1774_1.jpg', '1774_2.jpg', '1775_0.jpg', '1775_1.jpg', '1775_2.jpg', '1776_0.jpg', '1776_1.jpg', '1776_2.jpg', '1777_0.jpg', '1777_1.jpg', '1777_2.jpg', '1778_0.jpg', '1778_1.jpg', '1778_2.jpg', '1779_0.jpg', '1779_1.jpg', '177_0.jpg', '177_1.jpg', '1780_0.jpg', '1780_1.jpg', '1781_0.jpg', '1781_1.jpg', '1781_2.jpg', '1782_0.jpg', '1782_1.jpg', '1782_2.jpg', '1783_0.jpg', '1783_1.jpg', '1783_2.jpg', '1784_0.jpg', '1784_1.jpg', '1784_2.jpg', '1785_0.jpg', '1785_1.jpg', '1785_2.jpg', '1786_0.jpg', '1786_1.jpg', '1786_2.jpg', '1787_0.jpg', '1787_1.jpg', '1788_0.jpg', '1788_1.jpg', '1789_0.jpg', '1789_1.jpg', '1789_2.jpg', '178_0.jpg', '178_1.jpg', '178_2.jpg', '1790_0.jpg', '1790_1.jpg', '1791_0.jpg', '1791_1.jpg', '1791_2.jpg', '1792_0.jpg', '1792_1.jpg', '1792_2.jpg', '1793_0.jpg', '1793_1.jpg', '1793_2.jpg', '1794_0.jpg', '1794_1.jpg', '1795_0.jpg', '1795_1.jpg', '1795_2.jpg', '1796_0.jpg', '1796_1.jpg', '1797_0.jpg', '1797_1.jpg', '1797_2.jpg', '1798_0.jpg', '1798_1.jpg', '1798_2.jpg', '1799_0.jpg', '1799_1.jpg', '179_0.jpg', '179_1.jpg', '179_2.jpg', '17_0.jpg', '17_1.jpg', '17_2.jpg', '1800_0.jpg', '1800_1.jpg', '1800_2.jpg', '1801_0.jpg', '1801_1.jpg', '1802_0.jpg', '1802_1.jpg', '1803_0.jpg', '1803_1.jpg', '1803_2.jpg', '1804_0.jpg', '1804_1.jpg', '1804_2.jpg', '1805_0.jpg', '1805_1.jpg', '1805_2.jpg', '1806_0.jpg', '1806_1.jpg', '1806_2.jpg', '1807_0.jpg', '1807_1.jpg', '1807_2.jpg', '1808_0.jpg', '1808_1.jpg', '1808_2.jpg', '1809_0.jpg', '1809_1.jpg', '1809_2.jpg', '180_0.jpg', '180_1.jpg', '180_2.jpg', '1810_0.jpg', '1810_1.jpg', '1810_2.jpg', '1811_0.jpg', '1811_1.jpg', '1811_2.jpg', '1812_0.jpg', '1812_1.jpg', '1812_2.jpg', '1813_0.jpg', '1813_1.jpg', '1814_0.jpg', '1814_1.jpg', '1814_2.jpg', '1815_0.jpg', '1815_1.jpg', '1815_2.jpg', '1816_0.jpg', '1816_1.jpg', '1816_2.jpg', '1817_0.jpg', '1817_1.jpg', '1818_0.jpg', '1818_1.jpg', '1818_2.jpg', '1819_0.jpg', '1819_1.jpg', '1819_2.jpg', '181_0.jpg', '181_1.jpg', '181_2.jpg', '1820_0.jpg', '1820_1.jpg', '1820_2.jpg', '1821_0.jpg', '1821_1.jpg', '1821_2.jpg', '1822_0.jpg', '1822_1.jpg', '1822_2.jpg', '1823_0.jpg', '1823_1.jpg', '1823_2.jpg', '1824_0.jpg', '1824_1.jpg', '1824_2.jpg', '1825_0.jpg', '1825_1.jpg', '1825_2.jpg', '1826_0.jpg', '1826_1.jpg', '1826_2.jpg', '1827_0.jpg', '1827_1.jpg', '1827_2.jpg', '1828_0.jpg', '1828_1.jpg', '1828_2.jpg', '1829_0.jpg', '1829_1.jpg', '1829_2.jpg', '182_0.jpg', '182_1.jpg', '1830_0.jpg', '1830_1.jpg', '1831_0.jpg', '1831_1.jpg', '1832_0.jpg', '1832_1.jpg', '1833_0.jpg', '1833_1.jpg', '1833_2.jpg', '1834_0.jpg', '1834_1.jpg', '1835_0.jpg', '1835_1.jpg', '1835_2.jpg', '1836_0.jpg', '1836_1.jpg', '1836_2.jpg', '1837_0.jpg', '1837_1.jpg', '1837_2.jpg', '1838_0.jpg', '1838_1.jpg', '1838_2.jpg', '1839_0.jpg', '1839_1.jpg', '1839_2.jpg', '183_0.jpg', '183_1.jpg', '1840_0.jpg', '1840_1.jpg', '1840_2.jpg', '1841_0.jpg', '1841_1.jpg', '1841_2.jpg', '1842_0.jpg', '1842_1.jpg', '1842_2.jpg', '1843_0.jpg', '1843_1.jpg', '1844_0.jpg', '1844_1.jpg', '1844_2.jpg', '1845_0.jpg', '1845_1.jpg', '1845_2.jpg', '1846_0.jpg', '1846_1.jpg', '1846_2.jpg', '1847_0.jpg', '1847_1.jpg', '1847_2.jpg', '1848_0.jpg', '1848_1.jpg', '1848_2.jpg', '1849_0.jpg', '1849_1.jpg', '1849_2.jpg', '184_0.jpg', '184_1.jpg', '184_2.jpg', '1850_0.jpg', '1850_1.jpg', '1850_2.jpg', '1851_0.jpg', '1851_1.jpg', '1851_2.jpg', '1852_0.jpg', '1852_1.jpg', '1852_2.jpg', '1853_0.jpg', '1853_1.jpg', '1853_2.jpg', '1854_0.jpg', '1854_1.jpg', '1854_2.jpg', '1855_0.jpg', '1855_1.jpg', '1856_0.jpg', '1856_1.jpg', '1856_2.jpg', '1857_0.jpg', '1857_1.jpg', '1858_0.jpg', '1858_1.jpg', '1859_0.jpg', '1859_1.jpg', '1859_2.jpg', '185_0.jpg', '185_1.jpg', '185_2.jpg', '1860_0.jpg', '1860_1.jpg', '1861_0.jpg', '1861_1.jpg', '1861_2.jpg', '1862_0.jpg', '1862_1.jpg', '1862_2.jpg', '1863_0.jpg', '1863_1.jpg', '1864_0.jpg', '1864_1.jpg', '1864_2.jpg', '1865_0.jpg', '1865_1.jpg', '1865_2.jpg', '1866_0.jpg', '1866_1.jpg', '1867_0.jpg', '1867_1.jpg', '1867_2.jpg', '1868_0.jpg', '1868_1.jpg', '1868_2.jpg', '1869_0.jpg', '1869_1.jpg', '1869_2.jpg', '186_0.jpg', '186_1.jpg', '186_2.jpg', '1870_0.jpg', '1870_1.jpg', '1870_2.jpg', '1871_0.jpg', '1871_1.jpg', '1871_2.jpg', '1872_0.jpg', '1872_1.jpg', '1872_2.jpg', '1873_0.jpg', '1873_1.jpg', '1873_2.jpg', '1874_0.jpg', '1874_1.jpg', '1875_0.jpg', '1875_1.jpg', '1875_2.jpg', '1876_0.jpg', '1876_1.jpg', '1877_0.jpg', '1877_1.jpg', '1878_0.jpg', '1878_1.jpg', '1878_2.jpg', '1879_0.jpg', '1879_1.jpg', '1879_2.jpg', '187_0.jpg', '187_1.jpg', '187_2.jpg', '1880_0.jpg', '1880_1.jpg', '1880_2.jpg', '1881_0.jpg', '1881_1.jpg', '1881_2.jpg', '1882_0.jpg', '1882_1.jpg', '1882_2.jpg', '1883_0.jpg', '1883_1.jpg', '1883_2.jpg', '1884_0.jpg', '1884_1.jpg', '1884_2.jpg', '1885_0.jpg', '1885_1.jpg', '1885_2.jpg', '1886_0.jpg', '1886_1.jpg', '1886_2.jpg', '1887_0.jpg', '1887_1.jpg', '1888_0.jpg', '1888_1.jpg', '1888_2.jpg', '1889_0.jpg', '1889_1.jpg', '1889_2.jpg', '188_0.jpg', '188_1.jpg', '188_2.jpg', '1890_0.jpg', '1890_1.jpg', '1890_2.jpg', '1891_0.jpg', '1891_1.jpg', '1891_2.jpg', '1892_0.jpg', '1892_1.jpg', '1892_2.jpg', '1893_0.jpg', '1893_1.jpg', '1893_2.jpg', '1894_0.jpg', '1894_1.jpg', '1894_2.jpg', '1895_0.jpg', '1895_1.jpg', '1895_2.jpg', '1896_0.jpg', '1896_1.jpg', '1897_0.jpg', '1897_1.jpg', '1897_2.jpg', '1898_0.jpg', '1898_1.jpg', '1898_2.jpg', '1899_0.jpg', '1899_1.jpg', '1899_2.jpg', '189_0.jpg', '189_1.jpg', '189_2.jpg', '18_0.jpg', '18_1.jpg', '1900_0.jpg', '1900_1.jpg', '1900_2.jpg', '1901_0.jpg', '1901_1.jpg', '1901_2.jpg', '1902_0.jpg', '1902_1.jpg', '1902_2.jpg', '1903_0.jpg', '1903_1.jpg', '1903_2.jpg', '1904_0.jpg', '1904_1.jpg', '1904_2.jpg', '1905_0.jpg', '1905_1.jpg', '1905_2.jpg', '1906_0.jpg', '1906_1.jpg', '1906_2.jpg', '1907_0.jpg', '1907_1.jpg', '1907_2.jpg', '1908_0.jpg', '1908_1.jpg', '1909_0.jpg', '1909_1.jpg', '1909_2.jpg', '190_0.jpg', '190_1.jpg', '190_2.jpg', '1910_0.jpg', '1910_1.jpg', '1910_2.jpg', '1911_0.jpg', '1911_1.jpg', '1911_2.jpg', '1912_0.jpg', '1912_1.jpg', '1912_2.jpg', '1913_0.jpg', '1913_1.jpg', '1913_2.jpg', '1914_0.jpg', '1914_1.jpg', '1915_0.jpg', '1915_1.jpg', '1916_0.jpg', '1916_1.jpg', '1916_2.jpg', '1917_0.jpg', '1917_1.jpg', '1918_0.jpg', '1918_1.jpg', '1918_2.jpg', '1919_0.jpg', '1919_1.jpg', '1919_2.jpg', '191_0.jpg', '191_1.jpg', '191_2.jpg', '1920_0.jpg', '1920_1.jpg', '1920_2.jpg', '1921_0.jpg', '1921_1.jpg', '1921_2.jpg', '1922_0.jpg', '1922_1.jpg', '1923_0.jpg', '1923_1.jpg', '1924_0.jpg', '1924_1.jpg', '1925_0.jpg', '1925_1.jpg', '1925_2.jpg', '1926_0.jpg', '1926_1.jpg', '1926_2.jpg', '1927_0.jpg', '1927_1.jpg', '1928_0.jpg', '1928_1.jpg', '1928_2.jpg', '1929_0.jpg', '1929_1.jpg', '192_0.jpg', '192_1.jpg', '192_2.jpg', '1930_0.jpg', '1930_1.jpg', '1930_2.jpg', '1931_0.jpg', '1931_1.jpg', '1932_0.jpg', '1932_1.jpg', '1932_2.jpg', '1933_0.jpg', '1933_1.jpg', '1933_2.jpg', '1934_0.jpg', '1934_1.jpg', '1934_2.jpg', '1935_0.jpg', '1935_1.jpg', '1935_2.jpg', '1936_0.jpg', '1936_1.jpg', '1936_2.jpg', '1937_0.jpg', '1937_1.jpg', '1937_2.jpg', '1938_0.jpg', '1938_1.jpg', '1939_0.jpg', '1939_1.jpg', '1939_2.jpg', '193_0.jpg', '193_1.jpg', '193_2.jpg', '1940_0.jpg', '1940_1.jpg', '1940_2.jpg', '1941_0.jpg', '1941_1.jpg', '1941_2.jpg', '1942_0.jpg', '1942_1.jpg', '1942_2.jpg', '1943_0.jpg', '1943_1.jpg', '1943_2.jpg', '1944_0.jpg', '1944_1.jpg', '1945_0.jpg', '1945_1.jpg', '1945_2.jpg', '1946_0.jpg', '1946_1.jpg', '1946_2.jpg', '1947_0.jpg', '1947_1.jpg', '1947_2.jpg', '1948_0.jpg', '1948_1.jpg', '1948_2.jpg', '1949_0.jpg', '1949_1.jpg', '1949_2.jpg', '194_0.jpg', '194_1.jpg', '194_2.jpg', '1950_0.jpg', '1950_1.jpg', '1951_0.jpg', '1951_1.jpg', '1952_0.jpg', '1952_1.jpg', '1952_2.jpg', '1953_0.jpg', '1953_1.jpg', '1953_2.jpg', '1954_0.jpg', '1954_1.jpg', '1955_0.jpg', '1955_1.jpg', '1955_2.jpg', '1956_0.jpg', '1956_1.jpg', '1956_2.jpg', '1957_0.jpg', '1957_1.jpg', '1957_2.jpg', '1958_0.jpg', '1958_1.jpg', '1959_0.jpg', '1959_1.jpg', '1959_2.jpg', '195_0.jpg', '195_1.jpg', '195_2.jpg', '1960_0.jpg', '1960_1.jpg', '1960_2.jpg', '1961_0.jpg', '1961_1.jpg', '1961_2.jpg', '1962_0.jpg', '1962_1.jpg', '1963_0.jpg', '1963_1.jpg', '1963_2.jpg', '1964_0.jpg', '1964_1.jpg', '1965_0.jpg', '1965_1.jpg', '1966_0.jpg', '1966_1.jpg', '1966_2.jpg', '1967_0.jpg', '1967_1.jpg', '1967_2.jpg', '1968_0.jpg', '1968_1.jpg', '1969_0.jpg', '1969_1.jpg', '196_0.jpg', '196_1.jpg', '196_2.jpg', '1970_0.jpg', '1970_1.jpg', '1970_2.jpg', 'R.jpg', 'ed1fd650-a385-4204-9997-85e7d0a92db1.jpg', 'image1.jpg', 'image10.jpg', 'image11.jpg', 'image12.jpg', 'image2.jpg', 'image3.jpg', 'image4.jpg', 'image5.jpg', 'image6.jpg', 'image7.jpg', 'image8.jpg', 'image9.jpg', 'input_image.jpg', 'sample.jpg', 'snow-leopard-kitten-859308400-e4538fc7938942058797e8139979ac74.jpg']\n"
     ]
    }
   ],
   "source": [
    "def get_image_names(directory):\n",
    "    image_extensions = '.jpg'\n",
    "    image_names = []\n",
    "    for filename in sorted(os.listdir(directory)):\n",
    "        if any(filename.lower().endswith(ext) for ext in image_extensions):\n",
    "            image_names.append(filename)\n",
    "    return image_names\n",
    "\n",
    "directory = \"../../images\"\n",
    "image_names = get_image_names(directory)\n",
    "print(image_names)"
   ]
  },
  {
   "cell_type": "code",
   "execution_count": 22,
   "metadata": {
    "id": "R2CWJVMLxg3x"
   },
   "outputs": [],
   "source": [
    "pretrained_matrix = []\n",
    "\n",
    "for image, vector in zip(image_names, features_pretrained):\n",
    "    pretrained_matrix.append([image, vector])"
   ]
  },
  {
   "cell_type": "code",
   "execution_count": 23,
   "metadata": {
    "id": "nJ1LJTIJaa6r"
   },
   "outputs": [],
   "source": [
    "model_finetunned = model_finetunned.to(\"cpu\")\n",
    "features_finetunning = torch.zeros((len(dataset), 128))\n"
   ]
  },
  {
   "cell_type": "code",
   "execution_count": 24,
   "metadata": {
    "colab": {
     "base_uri": "https://localhost:8080/"
    },
    "id": "zJHCPA2DYyZ_",
    "outputId": "24c6e2db-6439-4067-8e17-404c15067145"
   },
   "outputs": [
    {
     "name": "stderr",
     "output_type": "stream",
     "text": [
      "0it [00:00, ?it/s]"
     ]
    },
    {
     "name": "stdout",
     "output_type": "stream",
     "text": [
      "0\n"
     ]
    },
    {
     "name": "stderr",
     "output_type": "stream",
     "text": [
      "1it [00:01,  1.23s/it]"
     ]
    },
    {
     "name": "stdout",
     "output_type": "stream",
     "text": [
      "1\n"
     ]
    },
    {
     "name": "stderr",
     "output_type": "stream",
     "text": [
      "2it [00:02,  1.15s/it]"
     ]
    },
    {
     "name": "stdout",
     "output_type": "stream",
     "text": [
      "2\n"
     ]
    },
    {
     "name": "stderr",
     "output_type": "stream",
     "text": [
      "3it [00:03,  1.15s/it]"
     ]
    },
    {
     "name": "stdout",
     "output_type": "stream",
     "text": [
      "3\n"
     ]
    },
    {
     "name": "stderr",
     "output_type": "stream",
     "text": [
      "4it [00:04,  1.12s/it]"
     ]
    },
    {
     "name": "stdout",
     "output_type": "stream",
     "text": [
      "4\n"
     ]
    },
    {
     "name": "stderr",
     "output_type": "stream",
     "text": [
      "5it [00:05,  1.11s/it]"
     ]
    },
    {
     "name": "stdout",
     "output_type": "stream",
     "text": [
      "5\n"
     ]
    },
    {
     "name": "stderr",
     "output_type": "stream",
     "text": [
      "6it [00:06,  1.10s/it]"
     ]
    },
    {
     "name": "stdout",
     "output_type": "stream",
     "text": [
      "6\n"
     ]
    },
    {
     "name": "stderr",
     "output_type": "stream",
     "text": [
      "7it [00:07,  1.11s/it]"
     ]
    },
    {
     "name": "stdout",
     "output_type": "stream",
     "text": [
      "7\n"
     ]
    },
    {
     "name": "stderr",
     "output_type": "stream",
     "text": [
      "8it [00:08,  1.10s/it]"
     ]
    },
    {
     "name": "stdout",
     "output_type": "stream",
     "text": [
      "8\n"
     ]
    },
    {
     "name": "stderr",
     "output_type": "stream",
     "text": [
      "9it [00:09,  1.08s/it]"
     ]
    },
    {
     "name": "stdout",
     "output_type": "stream",
     "text": [
      "9\n"
     ]
    },
    {
     "name": "stderr",
     "output_type": "stream",
     "text": [
      "10it [00:11,  1.09s/it]"
     ]
    },
    {
     "name": "stdout",
     "output_type": "stream",
     "text": [
      "10\n"
     ]
    },
    {
     "name": "stderr",
     "output_type": "stream",
     "text": [
      "11it [00:12,  1.08s/it]"
     ]
    },
    {
     "name": "stdout",
     "output_type": "stream",
     "text": [
      "11\n"
     ]
    },
    {
     "name": "stderr",
     "output_type": "stream",
     "text": [
      "12it [00:13,  1.08s/it]"
     ]
    },
    {
     "name": "stdout",
     "output_type": "stream",
     "text": [
      "12\n"
     ]
    },
    {
     "name": "stderr",
     "output_type": "stream",
     "text": [
      "13it [00:14,  1.08s/it]"
     ]
    },
    {
     "name": "stdout",
     "output_type": "stream",
     "text": [
      "13\n"
     ]
    },
    {
     "name": "stderr",
     "output_type": "stream",
     "text": [
      "14it [00:15,  1.10s/it]"
     ]
    },
    {
     "name": "stdout",
     "output_type": "stream",
     "text": [
      "14\n"
     ]
    },
    {
     "name": "stderr",
     "output_type": "stream",
     "text": [
      "15it [00:16,  1.08s/it]"
     ]
    },
    {
     "name": "stdout",
     "output_type": "stream",
     "text": [
      "15\n"
     ]
    },
    {
     "name": "stderr",
     "output_type": "stream",
     "text": [
      "16it [00:17,  1.10s/it]"
     ]
    },
    {
     "name": "stdout",
     "output_type": "stream",
     "text": [
      "16\n"
     ]
    },
    {
     "name": "stderr",
     "output_type": "stream",
     "text": [
      "17it [00:18,  1.13s/it]"
     ]
    },
    {
     "name": "stdout",
     "output_type": "stream",
     "text": [
      "17\n"
     ]
    },
    {
     "name": "stderr",
     "output_type": "stream",
     "text": [
      "18it [00:20,  1.15s/it]"
     ]
    },
    {
     "name": "stdout",
     "output_type": "stream",
     "text": [
      "18\n"
     ]
    },
    {
     "name": "stderr",
     "output_type": "stream",
     "text": [
      "19it [00:21,  1.17s/it]"
     ]
    },
    {
     "name": "stdout",
     "output_type": "stream",
     "text": [
      "19\n"
     ]
    },
    {
     "name": "stderr",
     "output_type": "stream",
     "text": [
      "20it [00:22,  1.18s/it]"
     ]
    },
    {
     "name": "stdout",
     "output_type": "stream",
     "text": [
      "20\n"
     ]
    },
    {
     "name": "stderr",
     "output_type": "stream",
     "text": [
      "21it [00:23,  1.18s/it]"
     ]
    },
    {
     "name": "stdout",
     "output_type": "stream",
     "text": [
      "21\n"
     ]
    },
    {
     "name": "stderr",
     "output_type": "stream",
     "text": [
      "22it [00:24,  1.19s/it]"
     ]
    },
    {
     "name": "stdout",
     "output_type": "stream",
     "text": [
      "22\n"
     ]
    },
    {
     "name": "stderr",
     "output_type": "stream",
     "text": [
      "23it [00:26,  1.20s/it]"
     ]
    },
    {
     "name": "stdout",
     "output_type": "stream",
     "text": [
      "23\n"
     ]
    },
    {
     "name": "stderr",
     "output_type": "stream",
     "text": [
      "24it [00:27,  1.19s/it]"
     ]
    },
    {
     "name": "stdout",
     "output_type": "stream",
     "text": [
      "24\n"
     ]
    },
    {
     "name": "stderr",
     "output_type": "stream",
     "text": [
      "25it [00:28,  1.19s/it]"
     ]
    },
    {
     "name": "stdout",
     "output_type": "stream",
     "text": [
      "25\n"
     ]
    },
    {
     "name": "stderr",
     "output_type": "stream",
     "text": [
      "26it [00:29,  1.19s/it]"
     ]
    },
    {
     "name": "stdout",
     "output_type": "stream",
     "text": [
      "26\n"
     ]
    },
    {
     "name": "stderr",
     "output_type": "stream",
     "text": [
      "27it [00:30,  1.19s/it]"
     ]
    },
    {
     "name": "stdout",
     "output_type": "stream",
     "text": [
      "27\n"
     ]
    },
    {
     "name": "stderr",
     "output_type": "stream",
     "text": [
      "28it [00:31,  1.19s/it]"
     ]
    },
    {
     "name": "stdout",
     "output_type": "stream",
     "text": [
      "28\n"
     ]
    },
    {
     "name": "stderr",
     "output_type": "stream",
     "text": [
      "29it [00:33,  1.20s/it]"
     ]
    },
    {
     "name": "stdout",
     "output_type": "stream",
     "text": [
      "29\n"
     ]
    },
    {
     "name": "stderr",
     "output_type": "stream",
     "text": [
      "30it [00:34,  1.20s/it]"
     ]
    },
    {
     "name": "stdout",
     "output_type": "stream",
     "text": [
      "30\n"
     ]
    },
    {
     "name": "stderr",
     "output_type": "stream",
     "text": [
      "31it [00:35,  1.23s/it]"
     ]
    },
    {
     "name": "stdout",
     "output_type": "stream",
     "text": [
      "31\n"
     ]
    },
    {
     "name": "stderr",
     "output_type": "stream",
     "text": [
      "32it [00:36,  1.22s/it]"
     ]
    },
    {
     "name": "stdout",
     "output_type": "stream",
     "text": [
      "32\n"
     ]
    },
    {
     "name": "stderr",
     "output_type": "stream",
     "text": [
      "33it [00:38,  1.22s/it]"
     ]
    },
    {
     "name": "stdout",
     "output_type": "stream",
     "text": [
      "33\n"
     ]
    },
    {
     "name": "stderr",
     "output_type": "stream",
     "text": [
      "34it [00:39,  1.21s/it]"
     ]
    },
    {
     "name": "stdout",
     "output_type": "stream",
     "text": [
      "34\n"
     ]
    },
    {
     "name": "stderr",
     "output_type": "stream",
     "text": [
      "35it [00:40,  1.21s/it]"
     ]
    },
    {
     "name": "stdout",
     "output_type": "stream",
     "text": [
      "35\n"
     ]
    },
    {
     "name": "stderr",
     "output_type": "stream",
     "text": [
      "36it [00:41,  1.18s/it]"
     ]
    },
    {
     "name": "stdout",
     "output_type": "stream",
     "text": [
      "36\n"
     ]
    },
    {
     "name": "stderr",
     "output_type": "stream",
     "text": [
      "37it [00:42,  1.18s/it]"
     ]
    },
    {
     "name": "stdout",
     "output_type": "stream",
     "text": [
      "37\n"
     ]
    },
    {
     "name": "stderr",
     "output_type": "stream",
     "text": [
      "38it [00:44,  1.19s/it]"
     ]
    },
    {
     "name": "stdout",
     "output_type": "stream",
     "text": [
      "38\n"
     ]
    },
    {
     "name": "stderr",
     "output_type": "stream",
     "text": [
      "39it [00:45,  1.20s/it]"
     ]
    },
    {
     "name": "stdout",
     "output_type": "stream",
     "text": [
      "39\n"
     ]
    },
    {
     "name": "stderr",
     "output_type": "stream",
     "text": [
      "40it [00:46,  1.18s/it]"
     ]
    },
    {
     "name": "stdout",
     "output_type": "stream",
     "text": [
      "40\n"
     ]
    },
    {
     "name": "stderr",
     "output_type": "stream",
     "text": [
      "41it [00:47,  1.20s/it]"
     ]
    },
    {
     "name": "stdout",
     "output_type": "stream",
     "text": [
      "41\n"
     ]
    },
    {
     "name": "stderr",
     "output_type": "stream",
     "text": [
      "42it [00:48,  1.18s/it]"
     ]
    },
    {
     "name": "stdout",
     "output_type": "stream",
     "text": [
      "42\n"
     ]
    },
    {
     "name": "stderr",
     "output_type": "stream",
     "text": [
      "43it [00:49,  1.19s/it]"
     ]
    },
    {
     "name": "stdout",
     "output_type": "stream",
     "text": [
      "43\n"
     ]
    },
    {
     "name": "stderr",
     "output_type": "stream",
     "text": [
      "44it [00:51,  1.19s/it]"
     ]
    },
    {
     "name": "stdout",
     "output_type": "stream",
     "text": [
      "44\n"
     ]
    },
    {
     "name": "stderr",
     "output_type": "stream",
     "text": [
      "45it [00:52,  1.20s/it]"
     ]
    },
    {
     "name": "stdout",
     "output_type": "stream",
     "text": [
      "45\n"
     ]
    },
    {
     "name": "stderr",
     "output_type": "stream",
     "text": [
      "46it [00:53,  1.23s/it]"
     ]
    },
    {
     "name": "stdout",
     "output_type": "stream",
     "text": [
      "46\n"
     ]
    },
    {
     "name": "stderr",
     "output_type": "stream",
     "text": [
      "47it [00:54,  1.23s/it]"
     ]
    },
    {
     "name": "stdout",
     "output_type": "stream",
     "text": [
      "47\n"
     ]
    },
    {
     "name": "stderr",
     "output_type": "stream",
     "text": [
      "48it [00:56,  1.23s/it]"
     ]
    },
    {
     "name": "stdout",
     "output_type": "stream",
     "text": [
      "48\n"
     ]
    },
    {
     "name": "stderr",
     "output_type": "stream",
     "text": [
      "49it [00:57,  1.21s/it]"
     ]
    },
    {
     "name": "stdout",
     "output_type": "stream",
     "text": [
      "49\n"
     ]
    },
    {
     "name": "stderr",
     "output_type": "stream",
     "text": [
      "50it [00:58,  1.23s/it]"
     ]
    },
    {
     "name": "stdout",
     "output_type": "stream",
     "text": [
      "50\n"
     ]
    },
    {
     "name": "stderr",
     "output_type": "stream",
     "text": [
      "51it [00:59,  1.22s/it]"
     ]
    },
    {
     "name": "stdout",
     "output_type": "stream",
     "text": [
      "51\n"
     ]
    },
    {
     "name": "stderr",
     "output_type": "stream",
     "text": [
      "52it [01:00,  1.21s/it]"
     ]
    },
    {
     "name": "stdout",
     "output_type": "stream",
     "text": [
      "52\n"
     ]
    },
    {
     "name": "stderr",
     "output_type": "stream",
     "text": [
      "53it [01:02,  1.20s/it]"
     ]
    },
    {
     "name": "stdout",
     "output_type": "stream",
     "text": [
      "53\n"
     ]
    },
    {
     "name": "stderr",
     "output_type": "stream",
     "text": [
      "54it [01:03,  1.22s/it]"
     ]
    },
    {
     "name": "stdout",
     "output_type": "stream",
     "text": [
      "54\n"
     ]
    },
    {
     "name": "stderr",
     "output_type": "stream",
     "text": [
      "55it [01:04,  1.24s/it]"
     ]
    },
    {
     "name": "stdout",
     "output_type": "stream",
     "text": [
      "55\n"
     ]
    },
    {
     "name": "stderr",
     "output_type": "stream",
     "text": [
      "56it [01:05,  1.22s/it]"
     ]
    },
    {
     "name": "stdout",
     "output_type": "stream",
     "text": [
      "56\n"
     ]
    },
    {
     "name": "stderr",
     "output_type": "stream",
     "text": [
      "57it [01:07,  1.22s/it]"
     ]
    },
    {
     "name": "stdout",
     "output_type": "stream",
     "text": [
      "57\n"
     ]
    },
    {
     "name": "stderr",
     "output_type": "stream",
     "text": [
      "58it [01:08,  1.20s/it]"
     ]
    },
    {
     "name": "stdout",
     "output_type": "stream",
     "text": [
      "58\n"
     ]
    },
    {
     "name": "stderr",
     "output_type": "stream",
     "text": [
      "59it [01:09,  1.20s/it]"
     ]
    },
    {
     "name": "stdout",
     "output_type": "stream",
     "text": [
      "59\n"
     ]
    },
    {
     "name": "stderr",
     "output_type": "stream",
     "text": [
      "60it [01:10,  1.19s/it]"
     ]
    },
    {
     "name": "stdout",
     "output_type": "stream",
     "text": [
      "60\n"
     ]
    },
    {
     "name": "stderr",
     "output_type": "stream",
     "text": [
      "61it [01:11,  1.21s/it]"
     ]
    },
    {
     "name": "stdout",
     "output_type": "stream",
     "text": [
      "61\n"
     ]
    },
    {
     "name": "stderr",
     "output_type": "stream",
     "text": [
      "62it [01:13,  1.22s/it]"
     ]
    },
    {
     "name": "stdout",
     "output_type": "stream",
     "text": [
      "62\n"
     ]
    },
    {
     "name": "stderr",
     "output_type": "stream",
     "text": [
      "63it [01:14,  1.20s/it]"
     ]
    },
    {
     "name": "stdout",
     "output_type": "stream",
     "text": [
      "63\n"
     ]
    },
    {
     "name": "stderr",
     "output_type": "stream",
     "text": [
      "64it [01:15,  1.20s/it]"
     ]
    },
    {
     "name": "stdout",
     "output_type": "stream",
     "text": [
      "64\n"
     ]
    },
    {
     "name": "stderr",
     "output_type": "stream",
     "text": [
      "65it [01:16,  1.19s/it]"
     ]
    },
    {
     "name": "stdout",
     "output_type": "stream",
     "text": [
      "65\n"
     ]
    },
    {
     "name": "stderr",
     "output_type": "stream",
     "text": [
      "66it [01:17,  1.21s/it]"
     ]
    },
    {
     "name": "stdout",
     "output_type": "stream",
     "text": [
      "66\n"
     ]
    },
    {
     "name": "stderr",
     "output_type": "stream",
     "text": [
      "67it [01:19,  1.21s/it]"
     ]
    },
    {
     "name": "stdout",
     "output_type": "stream",
     "text": [
      "67\n"
     ]
    },
    {
     "name": "stderr",
     "output_type": "stream",
     "text": [
      "68it [01:20,  1.21s/it]"
     ]
    },
    {
     "name": "stdout",
     "output_type": "stream",
     "text": [
      "68\n"
     ]
    },
    {
     "name": "stderr",
     "output_type": "stream",
     "text": [
      "69it [01:21,  1.21s/it]"
     ]
    },
    {
     "name": "stdout",
     "output_type": "stream",
     "text": [
      "69\n"
     ]
    },
    {
     "name": "stderr",
     "output_type": "stream",
     "text": [
      "70it [01:22,  1.20s/it]"
     ]
    },
    {
     "name": "stdout",
     "output_type": "stream",
     "text": [
      "70\n"
     ]
    },
    {
     "name": "stderr",
     "output_type": "stream",
     "text": [
      "71it [01:23,  1.19s/it]"
     ]
    },
    {
     "name": "stdout",
     "output_type": "stream",
     "text": [
      "71\n"
     ]
    },
    {
     "name": "stderr",
     "output_type": "stream",
     "text": [
      "72it [01:25,  1.19s/it]"
     ]
    },
    {
     "name": "stdout",
     "output_type": "stream",
     "text": [
      "72\n"
     ]
    },
    {
     "name": "stderr",
     "output_type": "stream",
     "text": [
      "73it [01:26,  1.19s/it]"
     ]
    },
    {
     "name": "stdout",
     "output_type": "stream",
     "text": [
      "73\n"
     ]
    },
    {
     "name": "stderr",
     "output_type": "stream",
     "text": [
      "74it [01:27,  1.19s/it]"
     ]
    },
    {
     "name": "stdout",
     "output_type": "stream",
     "text": [
      "74\n"
     ]
    },
    {
     "name": "stderr",
     "output_type": "stream",
     "text": [
      "75it [01:28,  1.19s/it]"
     ]
    },
    {
     "name": "stdout",
     "output_type": "stream",
     "text": [
      "75\n"
     ]
    },
    {
     "name": "stderr",
     "output_type": "stream",
     "text": [
      "76it [01:29,  1.23s/it]"
     ]
    },
    {
     "name": "stdout",
     "output_type": "stream",
     "text": [
      "76\n"
     ]
    },
    {
     "name": "stderr",
     "output_type": "stream",
     "text": [
      "77it [01:31,  1.22s/it]"
     ]
    },
    {
     "name": "stdout",
     "output_type": "stream",
     "text": [
      "77\n"
     ]
    },
    {
     "name": "stderr",
     "output_type": "stream",
     "text": [
      "78it [01:32,  1.20s/it]"
     ]
    },
    {
     "name": "stdout",
     "output_type": "stream",
     "text": [
      "78\n"
     ]
    },
    {
     "name": "stderr",
     "output_type": "stream",
     "text": [
      "79it [01:33,  1.21s/it]"
     ]
    },
    {
     "name": "stdout",
     "output_type": "stream",
     "text": [
      "79\n"
     ]
    },
    {
     "name": "stderr",
     "output_type": "stream",
     "text": [
      "80it [01:34,  1.22s/it]"
     ]
    },
    {
     "name": "stdout",
     "output_type": "stream",
     "text": [
      "80\n"
     ]
    },
    {
     "name": "stderr",
     "output_type": "stream",
     "text": [
      "81it [01:36,  1.25s/it]"
     ]
    },
    {
     "name": "stdout",
     "output_type": "stream",
     "text": [
      "81\n"
     ]
    },
    {
     "name": "stderr",
     "output_type": "stream",
     "text": [
      "82it [01:37,  1.25s/it]"
     ]
    },
    {
     "name": "stdout",
     "output_type": "stream",
     "text": [
      "82\n"
     ]
    },
    {
     "name": "stderr",
     "output_type": "stream",
     "text": [
      "83it [01:38,  1.23s/it]"
     ]
    },
    {
     "name": "stdout",
     "output_type": "stream",
     "text": [
      "83\n"
     ]
    },
    {
     "name": "stderr",
     "output_type": "stream",
     "text": [
      "84it [01:39,  1.22s/it]"
     ]
    },
    {
     "name": "stdout",
     "output_type": "stream",
     "text": [
      "84\n"
     ]
    },
    {
     "name": "stderr",
     "output_type": "stream",
     "text": [
      "85it [01:40,  1.22s/it]"
     ]
    },
    {
     "name": "stdout",
     "output_type": "stream",
     "text": [
      "85\n"
     ]
    },
    {
     "name": "stderr",
     "output_type": "stream",
     "text": [
      "86it [01:42,  1.24s/it]"
     ]
    },
    {
     "name": "stdout",
     "output_type": "stream",
     "text": [
      "86\n"
     ]
    },
    {
     "name": "stderr",
     "output_type": "stream",
     "text": [
      "87it [01:43,  1.24s/it]"
     ]
    },
    {
     "name": "stdout",
     "output_type": "stream",
     "text": [
      "87\n"
     ]
    },
    {
     "name": "stderr",
     "output_type": "stream",
     "text": [
      "88it [01:44,  1.27s/it]"
     ]
    },
    {
     "name": "stdout",
     "output_type": "stream",
     "text": [
      "88\n"
     ]
    },
    {
     "name": "stderr",
     "output_type": "stream",
     "text": [
      "89it [01:45,  1.24s/it]"
     ]
    },
    {
     "name": "stdout",
     "output_type": "stream",
     "text": [
      "89\n"
     ]
    },
    {
     "name": "stderr",
     "output_type": "stream",
     "text": [
      "90it [01:47,  1.23s/it]"
     ]
    },
    {
     "name": "stdout",
     "output_type": "stream",
     "text": [
      "90\n"
     ]
    },
    {
     "name": "stderr",
     "output_type": "stream",
     "text": [
      "91it [01:48,  1.22s/it]"
     ]
    },
    {
     "name": "stdout",
     "output_type": "stream",
     "text": [
      "91\n"
     ]
    },
    {
     "name": "stderr",
     "output_type": "stream",
     "text": [
      "92it [01:49,  1.22s/it]"
     ]
    },
    {
     "name": "stdout",
     "output_type": "stream",
     "text": [
      "92\n"
     ]
    },
    {
     "name": "stderr",
     "output_type": "stream",
     "text": [
      "93it [01:50,  1.21s/it]"
     ]
    },
    {
     "name": "stdout",
     "output_type": "stream",
     "text": [
      "93\n"
     ]
    },
    {
     "name": "stderr",
     "output_type": "stream",
     "text": [
      "94it [01:51,  1.19s/it]\n"
     ]
    }
   ],
   "source": [
    "for i, (images, labels) in tqdm(enumerate(dataloader)):\n",
    "    print(f\"{i}\")\n",
    "    # images = images\n",
    "    # labels = labels\n",
    "    outputs = model_finetunned(images).squeeze().detach()\n",
    "    features_finetunning[i * 32: i * 32 + len(images)] = outputs"
   ]
  },
  {
   "cell_type": "code",
   "execution_count": 25,
   "metadata": {
    "id": "H2a2HgctapZx"
   },
   "outputs": [],
   "source": [
    "finetunning_matrix = []\n",
    "\n",
    "for image, vector in zip(image_names, features_finetunning):\n",
    "    finetunning_matrix.append([image, vector])"
   ]
  },
  {
   "cell_type": "code",
   "execution_count": 28,
   "metadata": {
    "id": "k4AWmMeF1Ck5"
   },
   "outputs": [],
   "source": [
    "# Assuming 'embeddings_with_names' is a 2D numpy array where each row contains the embedded feature vector of an image and its corresponding name\n",
    "# 'specific_image_name' is the name of the specific image for which you want to find similar images\n",
    "# 'k' is the number of similar images to retrieve\n",
    "\n",
    "def top_k_similar_images(embeddings_with_names, specific_image_name, k=10):\n",
    "    # Find the index of the specific image\n",
    "    specific_image_index = None\n",
    "    for i, row in enumerate(embeddings_with_names):\n",
    "        if row[0] == specific_image_name:\n",
    "            specific_image_index = i\n",
    "            break\n",
    "\n",
    "    if specific_image_index is None:\n",
    "        raise ValueError(\"The specific image name was not found in the data matrix.\")\n",
    "\n",
    "    # Extract the embedded feature vector of the specific image\n",
    "    specific_embedding = embeddings_with_names[specific_image_index][1].reshape(1, -1)\n",
    "\n",
    "    # Extract all other embedded feature vectors\n",
    "    all_embeddings = np.array([row[1] for row in embeddings_with_names])\n",
    "\n",
    "    # Compute cosine similarities between the specific image and all other images\n",
    "    similarities = cosine_similarity(specific_embedding, all_embeddings)\n",
    "\n",
    "    # Sort indices of images based on similarity (excluding the specific image itself)\n",
    "    similar_image_indices = np.argsort(-similarities)[0][:k]\n",
    "\n",
    "  # Set up the plot\n",
    "    num_cols = k // 2\n",
    "    num_rows = 2\n",
    "    fig, axes = plt.subplots(num_rows, num_cols, figsize=(20, 10))  # Adjust the figsize as needed\n",
    "    plt.subplots_adjust(hspace=0.5)  # Adjust the spacing between rows\n",
    "\n",
    "    # Display each image in the ranking\n",
    "    for i, index in enumerate(similar_image_indices):\n",
    "        image_name = embeddings_with_names[index][0]\n",
    "        image_path = os.path.join(\"../../images\", image_name)  # Assuming images are in a folder named \"images2\"\n",
    "        image = Image.open(image_path)\n",
    "        row_index = i // num_cols\n",
    "        col_index = i % num_cols\n",
    "        axes[row_index, col_index].imshow(image)\n",
    "        axes[row_index, col_index].set_title(f\"Rank {i+1}: {image_name}\")\n",
    "        axes[row_index, col_index].axis('off')\n",
    "\n",
    "    plt.show()\n",
    "\n"
   ]
  },
  {
   "cell_type": "code",
   "execution_count": 39,
   "metadata": {
    "colab": {
     "base_uri": "https://localhost:8080/",
     "height": 496
    },
    "id": "K_kjwJzF1o2f",
    "outputId": "56a490a8-794b-4aef-d563-78d4e8a9dcc7"
   },
   "outputs": [
    {
     "name": "stdout",
     "output_type": "stream",
     "text": [
      "Top 10 similar images with pretrained model:\n"
     ]
    },
    {
     "data": {
      "image/png": "[encoded data removed]",
      "text/plain": [
       "<Figure size 2000x1000 with 10 Axes>"
      ]
     },
     "metadata": {},
     "output_type": "display_data"
    }
   ],
   "source": [
    "print(\"Top 10 similar images with pretrained model:\")\n",
    "similar_images = top_k_similar_images(pretrained_matrix, specific_image_name=\"1087_0.jpg\", k=10)"
   ]
  },
  {
   "cell_type": "code",
   "execution_count": 40,
   "metadata": {
    "colab": {
     "base_uri": "https://localhost:8080/",
     "height": 496
    },
    "id": "SP_kMhBq1oRe",
    "outputId": "6232e349-60d2-40bb-b0a1-43b4c53ffbd4"
   },
   "outputs": [
    {
     "name": "stdout",
     "output_type": "stream",
     "text": [
      "Top 10 similar images with finetunned model:\n"
     ]
    },
    {
     "data": {
      "image/png": "[encoded data removed]",
      "text/plain": [
       "<Figure size 2000x1000 with 10 Axes>"
      ]
     },
     "metadata": {},
     "output_type": "display_data"
    }
   ],
   "source": [
    "print(\"Top 10 similar images with finetunned model:\")\n",
    "similar_images = top_k_similar_images(finetunning_matrix, specific_image_name=\"1087_0.jpg\", k=10)"
   ]
  },
  {
   "cell_type": "code",
   "execution_count": null,
   "metadata": {},
   "outputs": [],
   "source": []
  }
 ],
 "metadata": {
  "accelerator": "GPU",
  "colab": {
   "gpuType": "T4",
   "provenance": []
  },
  "kernelspec": {
   "display_name": "pytorch",
   "language": "python",
   "name": "pytorch"
  },
  "language_info": {
   "codemirror_mode": {
    "name": "ipython",
    "version": 3
   },
   "file_extension": ".py",
   "mimetype": "text/x-python",
   "name": "python",
   "nbconvert_exporter": "python",
   "pygments_lexer": "ipython3",
   "version": "3.12.1"
  }
 },
 "nbformat": 4,
 "nbformat_minor": 4
}
